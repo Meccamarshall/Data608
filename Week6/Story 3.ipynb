{
 "cells": [
  {
   "cell_type": "markdown",
   "id": "1eb1636f-6e91-4e2b-8a92-cceeb663e245",
   "metadata": {},
   "source": [
    "# Shamecca Marshall\n",
    "# Data 608 - Story 3"
   ]
  },
  {
   "cell_type": "markdown",
   "id": "d8ae5947-25f4-47d2-b704-f7d66857343f",
   "metadata": {},
   "source": [
    "### Task\n",
    "The CDC publishes firearm mortality for each State per 100,000 persons https://www.cdc.gov/nchs/pressroom/sosmap/firearm_mortality/firearm.htm. Each State' firearm control laws can be categorized as very strict to very lax. The purpose of this Story is to answer the question, \" Do stricter firearm control laws help reduce firearm mortality?\"\n",
    "\n",
    "For this assignment you will need to:\n",
    "\n",
    "Access the firearm mortality data from the CDC using an available API (https://open.cdc.gov/apis.html)\n",
    "\n",
    "Create a 5 point Likert scale categorizing gun control laws from most lax to strictest and assign each state to the most appropriate Likert bin.\n",
    "\n",
    "Determine wether stricter gun control laws result in reduced gun violence deaths\n",
    "\n",
    "Present your story using  heat maps"
   ]
  },
  {
   "cell_type": "markdown",
   "id": "194a2b88-4799-4aed-a9ab-c4d4f554f002",
   "metadata": {},
   "source": [
    "### Importing libraries & retrieveing the data from the API"
   ]
  },
  {
   "cell_type": "markdown",
   "id": "657a3862-e5d5-42b2-a7c8-d6e39411f6f0",
   "metadata": {},
   "source": [
    "For this task, I acquired the data from the Centers for Disease Control and Prevention (CDC) API, accessed via this link: https://data.cdc.gov/\n",
    "\n",
    "Subsequently, I navigated to the Injury & Violence category, where I conducted a search for firearm mortality data. One relevant result titled \"NCHS - VSRR Quarterly provisional estimates for selected indicators of mortality\" was found at this link: https://data.cdc.gov/browse?q=firearm%20mortality%20data&sortBy=relevance. I extracted the API endpoint from this source: https://dev.socrata.com/foundry/data.cdc.gov/489q-934x. Finally, I utilized Python libraries to fetch the data via response requests in JSON format, as opposed to CSV."
   ]
  },
  {
   "cell_type": "code",
   "execution_count": 8,
   "id": "a6fe116b-3204-4fad-8154-742acf31b038",
   "metadata": {},
   "outputs": [
    {
     "name": "stdout",
     "output_type": "stream",
     "text": [
      "  year_and_quarter                    time_period  \\\n",
      "0          2021 Q1  12 months ending with quarter   \n",
      "1          2021 Q1  12 months ending with quarter   \n",
      "2          2021 Q1  12 months ending with quarter   \n",
      "3          2021 Q1  12 months ending with quarter   \n",
      "4          2021 Q1  12 months ending with quarter   \n",
      "\n",
      "                        cause_of_death     rate_type                unit  \\\n",
      "0                           All causes  Age-adjusted  Deaths per 100,000   \n",
      "1                    Alzheimer disease  Age-adjusted  Deaths per 100,000   \n",
      "2                             COVID-19  Age-adjusted  Deaths per 100,000   \n",
      "3                               Cancer  Age-adjusted  Deaths per 100,000   \n",
      "4  Chronic liver disease and cirrhosis  Age-adjusted  Deaths per 100,000   \n",
      "\n",
      "  rate_overall rate_sex_female rate_sex_male rate_alaska rate_alabama  ...  \\\n",
      "0        866.3           716.3        1040.4       779.2       1123.4  ...   \n",
      "1         32.1            36.8          24.8        28.2         51.2  ...   \n",
      "2        120.7              94         153.9        44.4        160.2  ...   \n",
      "3          142           122.8         167.7         143        160.5  ...   \n",
      "4         13.9             9.8          18.3        23.6         17.2  ...   \n",
      "\n",
      "  rate_age_1_4 rate_age_5_14 rate_age_15_24 rate_age_25_34 rate_age_35_44  \\\n",
      "0          NaN           NaN            NaN            NaN            NaN   \n",
      "1          NaN           NaN            NaN            NaN            NaN   \n",
      "2          NaN           NaN            NaN            NaN            NaN   \n",
      "3          NaN           NaN            NaN            NaN            NaN   \n",
      "4          NaN           NaN            NaN            NaN            NaN   \n",
      "\n",
      "  rate_age_45_54 rate_age_55_64 rate_65_74 rate_age_75_84 rate_age_85_plus  \n",
      "0            NaN            NaN        NaN            NaN              NaN  \n",
      "1            NaN            NaN        NaN            NaN              NaN  \n",
      "2            NaN            NaN        NaN            NaN              NaN  \n",
      "3            NaN            NaN        NaN            NaN              NaN  \n",
      "4            NaN            NaN        NaN            NaN              NaN  \n",
      "\n",
      "[5 rows x 69 columns]\n"
     ]
    }
   ],
   "source": [
    "import requests  # Importing the requests library to make HTTP requests\n",
    "import pandas as pd  # Importing pandas library for handling data as DataFrame\n",
    "\n",
    "url = \"https://data.cdc.gov/resource/489q-934x.json\"  # URL to fetch data from\n",
    "\n",
    "response = requests.get(url)  # Sending a GET request to the URL and storing the response\n",
    "\n",
    "if response.status_code == 200:  # Checking if the response status code is 200 (indicating success)\n",
    "    data = response.json()  # Converting the JSON response to Python data (a list or dictionary)\n",
    "    df_mortality = pd.DataFrame(data)  # Creating a DataFrame from the JSON data\n",
    "else:\n",
    "    print(\"Error: Unable to retrieve data from the URL.\")  # Printing an error message if request fails\n",
    "\n",
    "print(df_mortality.head())  # Printing the first few rows of the DataFrame"
   ]
  },
  {
   "cell_type": "code",
   "execution_count": 10,
   "id": "959a5178-89f5-4d52-8ceb-5fcc706b90d9",
   "metadata": {},
   "outputs": [
    {
     "data": {
      "text/html": [
       "<div>\n",
       "<style scoped>\n",
       "    .dataframe tbody tr th:only-of-type {\n",
       "        vertical-align: middle;\n",
       "    }\n",
       "\n",
       "    .dataframe tbody tr th {\n",
       "        vertical-align: top;\n",
       "    }\n",
       "\n",
       "    .dataframe thead th {\n",
       "        text-align: right;\n",
       "    }\n",
       "</style>\n",
       "<table border=\"1\" class=\"dataframe\">\n",
       "  <thead>\n",
       "    <tr style=\"text-align: right;\">\n",
       "      <th></th>\n",
       "      <th>year_and_quarter</th>\n",
       "      <th>time_period</th>\n",
       "      <th>cause_of_death</th>\n",
       "      <th>rate_type</th>\n",
       "      <th>unit</th>\n",
       "      <th>rate_overall</th>\n",
       "      <th>rate_sex_female</th>\n",
       "      <th>rate_sex_male</th>\n",
       "      <th>rate_alaska</th>\n",
       "      <th>rate_alabama</th>\n",
       "      <th>...</th>\n",
       "      <th>rate_age_1_4</th>\n",
       "      <th>rate_age_5_14</th>\n",
       "      <th>rate_age_15_24</th>\n",
       "      <th>rate_age_25_34</th>\n",
       "      <th>rate_age_35_44</th>\n",
       "      <th>rate_age_45_54</th>\n",
       "      <th>rate_age_55_64</th>\n",
       "      <th>rate_65_74</th>\n",
       "      <th>rate_age_75_84</th>\n",
       "      <th>rate_age_85_plus</th>\n",
       "    </tr>\n",
       "  </thead>\n",
       "  <tbody>\n",
       "    <tr>\n",
       "      <th>0</th>\n",
       "      <td>2021 Q1</td>\n",
       "      <td>12 months ending with quarter</td>\n",
       "      <td>All causes</td>\n",
       "      <td>Age-adjusted</td>\n",
       "      <td>Deaths per 100,000</td>\n",
       "      <td>866.3</td>\n",
       "      <td>716.3</td>\n",
       "      <td>1040.4</td>\n",
       "      <td>779.2</td>\n",
       "      <td>1123.4</td>\n",
       "      <td>...</td>\n",
       "      <td>NaN</td>\n",
       "      <td>NaN</td>\n",
       "      <td>NaN</td>\n",
       "      <td>NaN</td>\n",
       "      <td>NaN</td>\n",
       "      <td>NaN</td>\n",
       "      <td>NaN</td>\n",
       "      <td>NaN</td>\n",
       "      <td>NaN</td>\n",
       "      <td>NaN</td>\n",
       "    </tr>\n",
       "    <tr>\n",
       "      <th>1</th>\n",
       "      <td>2021 Q1</td>\n",
       "      <td>12 months ending with quarter</td>\n",
       "      <td>Alzheimer disease</td>\n",
       "      <td>Age-adjusted</td>\n",
       "      <td>Deaths per 100,000</td>\n",
       "      <td>32.1</td>\n",
       "      <td>36.8</td>\n",
       "      <td>24.8</td>\n",
       "      <td>28.2</td>\n",
       "      <td>51.2</td>\n",
       "      <td>...</td>\n",
       "      <td>NaN</td>\n",
       "      <td>NaN</td>\n",
       "      <td>NaN</td>\n",
       "      <td>NaN</td>\n",
       "      <td>NaN</td>\n",
       "      <td>NaN</td>\n",
       "      <td>NaN</td>\n",
       "      <td>NaN</td>\n",
       "      <td>NaN</td>\n",
       "      <td>NaN</td>\n",
       "    </tr>\n",
       "    <tr>\n",
       "      <th>2</th>\n",
       "      <td>2021 Q1</td>\n",
       "      <td>12 months ending with quarter</td>\n",
       "      <td>COVID-19</td>\n",
       "      <td>Age-adjusted</td>\n",
       "      <td>Deaths per 100,000</td>\n",
       "      <td>120.7</td>\n",
       "      <td>94</td>\n",
       "      <td>153.9</td>\n",
       "      <td>44.4</td>\n",
       "      <td>160.2</td>\n",
       "      <td>...</td>\n",
       "      <td>NaN</td>\n",
       "      <td>NaN</td>\n",
       "      <td>NaN</td>\n",
       "      <td>NaN</td>\n",
       "      <td>NaN</td>\n",
       "      <td>NaN</td>\n",
       "      <td>NaN</td>\n",
       "      <td>NaN</td>\n",
       "      <td>NaN</td>\n",
       "      <td>NaN</td>\n",
       "    </tr>\n",
       "    <tr>\n",
       "      <th>3</th>\n",
       "      <td>2021 Q1</td>\n",
       "      <td>12 months ending with quarter</td>\n",
       "      <td>Cancer</td>\n",
       "      <td>Age-adjusted</td>\n",
       "      <td>Deaths per 100,000</td>\n",
       "      <td>142</td>\n",
       "      <td>122.8</td>\n",
       "      <td>167.7</td>\n",
       "      <td>143</td>\n",
       "      <td>160.5</td>\n",
       "      <td>...</td>\n",
       "      <td>NaN</td>\n",
       "      <td>NaN</td>\n",
       "      <td>NaN</td>\n",
       "      <td>NaN</td>\n",
       "      <td>NaN</td>\n",
       "      <td>NaN</td>\n",
       "      <td>NaN</td>\n",
       "      <td>NaN</td>\n",
       "      <td>NaN</td>\n",
       "      <td>NaN</td>\n",
       "    </tr>\n",
       "    <tr>\n",
       "      <th>4</th>\n",
       "      <td>2021 Q1</td>\n",
       "      <td>12 months ending with quarter</td>\n",
       "      <td>Chronic liver disease and cirrhosis</td>\n",
       "      <td>Age-adjusted</td>\n",
       "      <td>Deaths per 100,000</td>\n",
       "      <td>13.9</td>\n",
       "      <td>9.8</td>\n",
       "      <td>18.3</td>\n",
       "      <td>23.6</td>\n",
       "      <td>17.2</td>\n",
       "      <td>...</td>\n",
       "      <td>NaN</td>\n",
       "      <td>NaN</td>\n",
       "      <td>NaN</td>\n",
       "      <td>NaN</td>\n",
       "      <td>NaN</td>\n",
       "      <td>NaN</td>\n",
       "      <td>NaN</td>\n",
       "      <td>NaN</td>\n",
       "      <td>NaN</td>\n",
       "      <td>NaN</td>\n",
       "    </tr>\n",
       "    <tr>\n",
       "      <th>...</th>\n",
       "      <td>...</td>\n",
       "      <td>...</td>\n",
       "      <td>...</td>\n",
       "      <td>...</td>\n",
       "      <td>...</td>\n",
       "      <td>...</td>\n",
       "      <td>...</td>\n",
       "      <td>...</td>\n",
       "      <td>...</td>\n",
       "      <td>...</td>\n",
       "      <td>...</td>\n",
       "      <td>...</td>\n",
       "      <td>...</td>\n",
       "      <td>...</td>\n",
       "      <td>...</td>\n",
       "      <td>...</td>\n",
       "      <td>...</td>\n",
       "      <td>...</td>\n",
       "      <td>...</td>\n",
       "      <td>...</td>\n",
       "      <td>...</td>\n",
       "    </tr>\n",
       "    <tr>\n",
       "      <th>875</th>\n",
       "      <td>2023 Q2</td>\n",
       "      <td>3-month period</td>\n",
       "      <td>Pneumonitis due to solids and liquids</td>\n",
       "      <td>Crude</td>\n",
       "      <td>Deaths per 100,000</td>\n",
       "      <td>5.7</td>\n",
       "      <td>4.8</td>\n",
       "      <td>6.6</td>\n",
       "      <td>2.7</td>\n",
       "      <td>4.5</td>\n",
       "      <td>...</td>\n",
       "      <td>NaN</td>\n",
       "      <td>NaN</td>\n",
       "      <td>0.1</td>\n",
       "      <td>0.3</td>\n",
       "      <td>0.5</td>\n",
       "      <td>1.4</td>\n",
       "      <td>3.6</td>\n",
       "      <td>10.4</td>\n",
       "      <td>29.8</td>\n",
       "      <td>113.8</td>\n",
       "    </tr>\n",
       "    <tr>\n",
       "      <th>876</th>\n",
       "      <td>2023 Q2</td>\n",
       "      <td>3-month period</td>\n",
       "      <td>Septicemia</td>\n",
       "      <td>Crude</td>\n",
       "      <td>Deaths per 100,000</td>\n",
       "      <td>11.9</td>\n",
       "      <td>11.9</td>\n",
       "      <td>12</td>\n",
       "      <td>9.9</td>\n",
       "      <td>21.4</td>\n",
       "      <td>...</td>\n",
       "      <td>0.4</td>\n",
       "      <td>0.2</td>\n",
       "      <td>0.3</td>\n",
       "      <td>0.8</td>\n",
       "      <td>2.2</td>\n",
       "      <td>6</td>\n",
       "      <td>12.8</td>\n",
       "      <td>29.3</td>\n",
       "      <td>61.8</td>\n",
       "      <td>136.9</td>\n",
       "    </tr>\n",
       "    <tr>\n",
       "      <th>877</th>\n",
       "      <td>2023 Q2</td>\n",
       "      <td>3-month period</td>\n",
       "      <td>Stroke</td>\n",
       "      <td>Crude</td>\n",
       "      <td>Deaths per 100,000</td>\n",
       "      <td>47</td>\n",
       "      <td>52.7</td>\n",
       "      <td>41.2</td>\n",
       "      <td>19.7</td>\n",
       "      <td>60.2</td>\n",
       "      <td>...</td>\n",
       "      <td>0.4</td>\n",
       "      <td>0.2</td>\n",
       "      <td>0.4</td>\n",
       "      <td>1.2</td>\n",
       "      <td>4.8</td>\n",
       "      <td>13.4</td>\n",
       "      <td>30.1</td>\n",
       "      <td>77.5</td>\n",
       "      <td>248.7</td>\n",
       "      <td>965.6</td>\n",
       "    </tr>\n",
       "    <tr>\n",
       "      <th>878</th>\n",
       "      <td>2023 Q2</td>\n",
       "      <td>3-month period</td>\n",
       "      <td>Suicide</td>\n",
       "      <td>Crude</td>\n",
       "      <td>Deaths per 100,000</td>\n",
       "      <td>NaN</td>\n",
       "      <td>NaN</td>\n",
       "      <td>NaN</td>\n",
       "      <td>NaN</td>\n",
       "      <td>NaN</td>\n",
       "      <td>...</td>\n",
       "      <td>NaN</td>\n",
       "      <td>NaN</td>\n",
       "      <td>NaN</td>\n",
       "      <td>NaN</td>\n",
       "      <td>NaN</td>\n",
       "      <td>NaN</td>\n",
       "      <td>NaN</td>\n",
       "      <td>NaN</td>\n",
       "      <td>NaN</td>\n",
       "      <td>NaN</td>\n",
       "    </tr>\n",
       "    <tr>\n",
       "      <th>879</th>\n",
       "      <td>2023 Q2</td>\n",
       "      <td>3-month period</td>\n",
       "      <td>Unintentional injuries</td>\n",
       "      <td>Crude</td>\n",
       "      <td>Deaths per 100,000</td>\n",
       "      <td>NaN</td>\n",
       "      <td>NaN</td>\n",
       "      <td>NaN</td>\n",
       "      <td>NaN</td>\n",
       "      <td>NaN</td>\n",
       "      <td>...</td>\n",
       "      <td>NaN</td>\n",
       "      <td>NaN</td>\n",
       "      <td>NaN</td>\n",
       "      <td>NaN</td>\n",
       "      <td>NaN</td>\n",
       "      <td>NaN</td>\n",
       "      <td>NaN</td>\n",
       "      <td>NaN</td>\n",
       "      <td>NaN</td>\n",
       "      <td>NaN</td>\n",
       "    </tr>\n",
       "  </tbody>\n",
       "</table>\n",
       "<p>880 rows × 69 columns</p>\n",
       "</div>"
      ],
      "text/plain": [
       "    year_and_quarter                    time_period  \\\n",
       "0            2021 Q1  12 months ending with quarter   \n",
       "1            2021 Q1  12 months ending with quarter   \n",
       "2            2021 Q1  12 months ending with quarter   \n",
       "3            2021 Q1  12 months ending with quarter   \n",
       "4            2021 Q1  12 months ending with quarter   \n",
       "..               ...                            ...   \n",
       "875          2023 Q2                 3-month period   \n",
       "876          2023 Q2                 3-month period   \n",
       "877          2023 Q2                 3-month period   \n",
       "878          2023 Q2                 3-month period   \n",
       "879          2023 Q2                 3-month period   \n",
       "\n",
       "                            cause_of_death     rate_type                unit  \\\n",
       "0                               All causes  Age-adjusted  Deaths per 100,000   \n",
       "1                        Alzheimer disease  Age-adjusted  Deaths per 100,000   \n",
       "2                                 COVID-19  Age-adjusted  Deaths per 100,000   \n",
       "3                                   Cancer  Age-adjusted  Deaths per 100,000   \n",
       "4      Chronic liver disease and cirrhosis  Age-adjusted  Deaths per 100,000   \n",
       "..                                     ...           ...                 ...   \n",
       "875  Pneumonitis due to solids and liquids         Crude  Deaths per 100,000   \n",
       "876                             Septicemia         Crude  Deaths per 100,000   \n",
       "877                                 Stroke         Crude  Deaths per 100,000   \n",
       "878                                Suicide         Crude  Deaths per 100,000   \n",
       "879                 Unintentional injuries         Crude  Deaths per 100,000   \n",
       "\n",
       "    rate_overall rate_sex_female rate_sex_male rate_alaska rate_alabama  ...  \\\n",
       "0          866.3           716.3        1040.4       779.2       1123.4  ...   \n",
       "1           32.1            36.8          24.8        28.2         51.2  ...   \n",
       "2          120.7              94         153.9        44.4        160.2  ...   \n",
       "3            142           122.8         167.7         143        160.5  ...   \n",
       "4           13.9             9.8          18.3        23.6         17.2  ...   \n",
       "..           ...             ...           ...         ...          ...  ...   \n",
       "875          5.7             4.8           6.6         2.7          4.5  ...   \n",
       "876         11.9            11.9            12         9.9         21.4  ...   \n",
       "877           47            52.7          41.2        19.7         60.2  ...   \n",
       "878          NaN             NaN           NaN         NaN          NaN  ...   \n",
       "879          NaN             NaN           NaN         NaN          NaN  ...   \n",
       "\n",
       "    rate_age_1_4 rate_age_5_14 rate_age_15_24 rate_age_25_34 rate_age_35_44  \\\n",
       "0            NaN           NaN            NaN            NaN            NaN   \n",
       "1            NaN           NaN            NaN            NaN            NaN   \n",
       "2            NaN           NaN            NaN            NaN            NaN   \n",
       "3            NaN           NaN            NaN            NaN            NaN   \n",
       "4            NaN           NaN            NaN            NaN            NaN   \n",
       "..           ...           ...            ...            ...            ...   \n",
       "875          NaN           NaN            0.1            0.3            0.5   \n",
       "876          0.4           0.2            0.3            0.8            2.2   \n",
       "877          0.4           0.2            0.4            1.2            4.8   \n",
       "878          NaN           NaN            NaN            NaN            NaN   \n",
       "879          NaN           NaN            NaN            NaN            NaN   \n",
       "\n",
       "    rate_age_45_54 rate_age_55_64 rate_65_74 rate_age_75_84 rate_age_85_plus  \n",
       "0              NaN            NaN        NaN            NaN              NaN  \n",
       "1              NaN            NaN        NaN            NaN              NaN  \n",
       "2              NaN            NaN        NaN            NaN              NaN  \n",
       "3              NaN            NaN        NaN            NaN              NaN  \n",
       "4              NaN            NaN        NaN            NaN              NaN  \n",
       "..             ...            ...        ...            ...              ...  \n",
       "875            1.4            3.6       10.4           29.8            113.8  \n",
       "876              6           12.8       29.3           61.8            136.9  \n",
       "877           13.4           30.1       77.5          248.7            965.6  \n",
       "878            NaN            NaN        NaN            NaN              NaN  \n",
       "879            NaN            NaN        NaN            NaN              NaN  \n",
       "\n",
       "[880 rows x 69 columns]"
      ]
     },
     "execution_count": 10,
     "metadata": {},
     "output_type": "execute_result"
    }
   ],
   "source": [
    "df_mortality"
   ]
  },
  {
   "cell_type": "markdown",
   "id": "a8042854-ec76-4f6a-838f-b65bb1e73201",
   "metadata": {},
   "source": [
    "After successfully retrieving the data from the CDC API, I proceeded to filter the dataframe to specifically examine mortality rates related to \"Firearm-related injury\" with the type categorized as \"Crude\". For the temporal analysis, I specifically chose a 12-month period ending with a quarter."
   ]
  },
  {
   "cell_type": "code",
   "execution_count": 14,
   "id": "ba4b1006-33dd-4a56-a525-8172b92dee89",
   "metadata": {},
   "outputs": [
    {
     "data": {
      "text/html": [
       "<div>\n",
       "<style scoped>\n",
       "    .dataframe tbody tr th:only-of-type {\n",
       "        vertical-align: middle;\n",
       "    }\n",
       "\n",
       "    .dataframe tbody tr th {\n",
       "        vertical-align: top;\n",
       "    }\n",
       "\n",
       "    .dataframe thead th {\n",
       "        text-align: right;\n",
       "    }\n",
       "</style>\n",
       "<table border=\"1\" class=\"dataframe\">\n",
       "  <thead>\n",
       "    <tr style=\"text-align: right;\">\n",
       "      <th></th>\n",
       "      <th>year_and_quarter</th>\n",
       "      <th>time_period</th>\n",
       "      <th>cause_of_death</th>\n",
       "      <th>rate_type</th>\n",
       "      <th>unit</th>\n",
       "      <th>rate_overall</th>\n",
       "      <th>rate_sex_female</th>\n",
       "      <th>rate_sex_male</th>\n",
       "      <th>rate_alaska</th>\n",
       "      <th>rate_alabama</th>\n",
       "      <th>...</th>\n",
       "      <th>rate_age_1_4</th>\n",
       "      <th>rate_age_5_14</th>\n",
       "      <th>rate_age_15_24</th>\n",
       "      <th>rate_age_25_34</th>\n",
       "      <th>rate_age_35_44</th>\n",
       "      <th>rate_age_45_54</th>\n",
       "      <th>rate_age_55_64</th>\n",
       "      <th>rate_65_74</th>\n",
       "      <th>rate_age_75_84</th>\n",
       "      <th>rate_age_85_plus</th>\n",
       "    </tr>\n",
       "  </thead>\n",
       "  <tbody>\n",
       "    <tr>\n",
       "      <th>0</th>\n",
       "      <td>2021 Q1</td>\n",
       "      <td>12 months ending with quarter</td>\n",
       "      <td>Firearm-related injury</td>\n",
       "      <td>Crude</td>\n",
       "      <td>Deaths per 100,000</td>\n",
       "      <td>14.1</td>\n",
       "      <td>3.9</td>\n",
       "      <td>24.5</td>\n",
       "      <td>23.1</td>\n",
       "      <td>24.2</td>\n",
       "      <td>...</td>\n",
       "      <td>0.8</td>\n",
       "      <td>1.7</td>\n",
       "      <td>23</td>\n",
       "      <td>23.6</td>\n",
       "      <td>17.3</td>\n",
       "      <td>13.6</td>\n",
       "      <td>11.7</td>\n",
       "      <td>10.9</td>\n",
       "      <td>15.1</td>\n",
       "      <td>16</td>\n",
       "    </tr>\n",
       "    <tr>\n",
       "      <th>1</th>\n",
       "      <td>2021 Q2</td>\n",
       "      <td>12 months ending with quarter</td>\n",
       "      <td>Firearm-related injury</td>\n",
       "      <td>Crude</td>\n",
       "      <td>Deaths per 100,000</td>\n",
       "      <td>14.4</td>\n",
       "      <td>4</td>\n",
       "      <td>25</td>\n",
       "      <td>25.1</td>\n",
       "      <td>24.8</td>\n",
       "      <td>...</td>\n",
       "      <td>0.8</td>\n",
       "      <td>1.7</td>\n",
       "      <td>23.7</td>\n",
       "      <td>24.7</td>\n",
       "      <td>17.7</td>\n",
       "      <td>13.8</td>\n",
       "      <td>11.7</td>\n",
       "      <td>11</td>\n",
       "      <td>15.7</td>\n",
       "      <td>17.3</td>\n",
       "    </tr>\n",
       "    <tr>\n",
       "      <th>2</th>\n",
       "      <td>2021 Q3</td>\n",
       "      <td>12 months ending with quarter</td>\n",
       "      <td>Firearm-related injury</td>\n",
       "      <td>Crude</td>\n",
       "      <td>Deaths per 100,000</td>\n",
       "      <td>14.6</td>\n",
       "      <td>4.1</td>\n",
       "      <td>25.3</td>\n",
       "      <td>24.4</td>\n",
       "      <td>25.4</td>\n",
       "      <td>...</td>\n",
       "      <td>0.8</td>\n",
       "      <td>1.7</td>\n",
       "      <td>23.7</td>\n",
       "      <td>25</td>\n",
       "      <td>18</td>\n",
       "      <td>14</td>\n",
       "      <td>11.7</td>\n",
       "      <td>11.3</td>\n",
       "      <td>16.1</td>\n",
       "      <td>17.8</td>\n",
       "    </tr>\n",
       "    <tr>\n",
       "      <th>3</th>\n",
       "      <td>2021 Q4</td>\n",
       "      <td>12 months ending with quarter</td>\n",
       "      <td>Firearm-related injury</td>\n",
       "      <td>Crude</td>\n",
       "      <td>Deaths per 100,000</td>\n",
       "      <td>14.7</td>\n",
       "      <td>4.2</td>\n",
       "      <td>25.5</td>\n",
       "      <td>24.8</td>\n",
       "      <td>26.1</td>\n",
       "      <td>...</td>\n",
       "      <td>0.9</td>\n",
       "      <td>1.6</td>\n",
       "      <td>23.5</td>\n",
       "      <td>24.8</td>\n",
       "      <td>18.1</td>\n",
       "      <td>14.5</td>\n",
       "      <td>12.1</td>\n",
       "      <td>11.7</td>\n",
       "      <td>16.2</td>\n",
       "      <td>18.3</td>\n",
       "    </tr>\n",
       "    <tr>\n",
       "      <th>4</th>\n",
       "      <td>2022 Q1</td>\n",
       "      <td>12 months ending with quarter</td>\n",
       "      <td>Firearm-related injury</td>\n",
       "      <td>Crude</td>\n",
       "      <td>Deaths per 100,000</td>\n",
       "      <td>14.8</td>\n",
       "      <td>4.1</td>\n",
       "      <td>25.6</td>\n",
       "      <td>25.8</td>\n",
       "      <td>25.4</td>\n",
       "      <td>...</td>\n",
       "      <td>1</td>\n",
       "      <td>1.6</td>\n",
       "      <td>23.3</td>\n",
       "      <td>24.5</td>\n",
       "      <td>18.4</td>\n",
       "      <td>14.7</td>\n",
       "      <td>12.3</td>\n",
       "      <td>11.7</td>\n",
       "      <td>16.3</td>\n",
       "      <td>19.2</td>\n",
       "    </tr>\n",
       "    <tr>\n",
       "      <th>5</th>\n",
       "      <td>2022 Q2</td>\n",
       "      <td>12 months ending with quarter</td>\n",
       "      <td>Firearm-related injury</td>\n",
       "      <td>Crude</td>\n",
       "      <td>Deaths per 100,000</td>\n",
       "      <td>14.8</td>\n",
       "      <td>4.2</td>\n",
       "      <td>25.6</td>\n",
       "      <td>23.7</td>\n",
       "      <td>25.2</td>\n",
       "      <td>...</td>\n",
       "      <td>1</td>\n",
       "      <td>1.6</td>\n",
       "      <td>22.4</td>\n",
       "      <td>24.2</td>\n",
       "      <td>18.4</td>\n",
       "      <td>14.9</td>\n",
       "      <td>12.9</td>\n",
       "      <td>12.1</td>\n",
       "      <td>16.6</td>\n",
       "      <td>18.1</td>\n",
       "    </tr>\n",
       "    <tr>\n",
       "      <th>6</th>\n",
       "      <td>2022 Q3</td>\n",
       "      <td>12 months ending with quarter</td>\n",
       "      <td>Firearm-related injury</td>\n",
       "      <td>Crude</td>\n",
       "      <td>Deaths per 100,000</td>\n",
       "      <td>14.7</td>\n",
       "      <td>4.2</td>\n",
       "      <td>25.3</td>\n",
       "      <td>23.4</td>\n",
       "      <td>25.6</td>\n",
       "      <td>...</td>\n",
       "      <td>0.9</td>\n",
       "      <td>1.6</td>\n",
       "      <td>21.9</td>\n",
       "      <td>23.6</td>\n",
       "      <td>18.3</td>\n",
       "      <td>14.9</td>\n",
       "      <td>13.1</td>\n",
       "      <td>12.1</td>\n",
       "      <td>16.3</td>\n",
       "      <td>18.6</td>\n",
       "    </tr>\n",
       "    <tr>\n",
       "      <th>7</th>\n",
       "      <td>2022 Q4</td>\n",
       "      <td>12 months ending with quarter</td>\n",
       "      <td>Firearm-related injury</td>\n",
       "      <td>Crude</td>\n",
       "      <td>Deaths per 100,000</td>\n",
       "      <td>14.5</td>\n",
       "      <td>4.1</td>\n",
       "      <td>25</td>\n",
       "      <td>22.4</td>\n",
       "      <td>25.2</td>\n",
       "      <td>...</td>\n",
       "      <td>0.9</td>\n",
       "      <td>1.5</td>\n",
       "      <td>21.1</td>\n",
       "      <td>22.9</td>\n",
       "      <td>18.1</td>\n",
       "      <td>14.8</td>\n",
       "      <td>13.4</td>\n",
       "      <td>11.9</td>\n",
       "      <td>16.5</td>\n",
       "      <td>18.5</td>\n",
       "    </tr>\n",
       "    <tr>\n",
       "      <th>8</th>\n",
       "      <td>2023 Q1</td>\n",
       "      <td>12 months ending with quarter</td>\n",
       "      <td>Firearm-related injury</td>\n",
       "      <td>Crude</td>\n",
       "      <td>Deaths per 100,000</td>\n",
       "      <td>14.4</td>\n",
       "      <td>4.1</td>\n",
       "      <td>24.8</td>\n",
       "      <td>21.5</td>\n",
       "      <td>26.1</td>\n",
       "      <td>...</td>\n",
       "      <td>0.8</td>\n",
       "      <td>1.6</td>\n",
       "      <td>21</td>\n",
       "      <td>22.5</td>\n",
       "      <td>18</td>\n",
       "      <td>14.7</td>\n",
       "      <td>13.5</td>\n",
       "      <td>12</td>\n",
       "      <td>16.3</td>\n",
       "      <td>17.7</td>\n",
       "    </tr>\n",
       "    <tr>\n",
       "      <th>9</th>\n",
       "      <td>2023 Q2</td>\n",
       "      <td>12 months ending with quarter</td>\n",
       "      <td>Firearm-related injury</td>\n",
       "      <td>Crude</td>\n",
       "      <td>Deaths per 100,000</td>\n",
       "      <td>NaN</td>\n",
       "      <td>NaN</td>\n",
       "      <td>NaN</td>\n",
       "      <td>NaN</td>\n",
       "      <td>NaN</td>\n",
       "      <td>...</td>\n",
       "      <td>NaN</td>\n",
       "      <td>NaN</td>\n",
       "      <td>NaN</td>\n",
       "      <td>NaN</td>\n",
       "      <td>NaN</td>\n",
       "      <td>NaN</td>\n",
       "      <td>NaN</td>\n",
       "      <td>NaN</td>\n",
       "      <td>NaN</td>\n",
       "      <td>NaN</td>\n",
       "    </tr>\n",
       "  </tbody>\n",
       "</table>\n",
       "<p>10 rows × 69 columns</p>\n",
       "</div>"
      ],
      "text/plain": [
       "  year_and_quarter                    time_period          cause_of_death  \\\n",
       "0          2021 Q1  12 months ending with quarter  Firearm-related injury   \n",
       "1          2021 Q2  12 months ending with quarter  Firearm-related injury   \n",
       "2          2021 Q3  12 months ending with quarter  Firearm-related injury   \n",
       "3          2021 Q4  12 months ending with quarter  Firearm-related injury   \n",
       "4          2022 Q1  12 months ending with quarter  Firearm-related injury   \n",
       "5          2022 Q2  12 months ending with quarter  Firearm-related injury   \n",
       "6          2022 Q3  12 months ending with quarter  Firearm-related injury   \n",
       "7          2022 Q4  12 months ending with quarter  Firearm-related injury   \n",
       "8          2023 Q1  12 months ending with quarter  Firearm-related injury   \n",
       "9          2023 Q2  12 months ending with quarter  Firearm-related injury   \n",
       "\n",
       "  rate_type                unit rate_overall rate_sex_female rate_sex_male  \\\n",
       "0     Crude  Deaths per 100,000         14.1             3.9          24.5   \n",
       "1     Crude  Deaths per 100,000         14.4               4            25   \n",
       "2     Crude  Deaths per 100,000         14.6             4.1          25.3   \n",
       "3     Crude  Deaths per 100,000         14.7             4.2          25.5   \n",
       "4     Crude  Deaths per 100,000         14.8             4.1          25.6   \n",
       "5     Crude  Deaths per 100,000         14.8             4.2          25.6   \n",
       "6     Crude  Deaths per 100,000         14.7             4.2          25.3   \n",
       "7     Crude  Deaths per 100,000         14.5             4.1            25   \n",
       "8     Crude  Deaths per 100,000         14.4             4.1          24.8   \n",
       "9     Crude  Deaths per 100,000          NaN             NaN           NaN   \n",
       "\n",
       "  rate_alaska rate_alabama  ... rate_age_1_4 rate_age_5_14 rate_age_15_24  \\\n",
       "0        23.1         24.2  ...          0.8           1.7             23   \n",
       "1        25.1         24.8  ...          0.8           1.7           23.7   \n",
       "2        24.4         25.4  ...          0.8           1.7           23.7   \n",
       "3        24.8         26.1  ...          0.9           1.6           23.5   \n",
       "4        25.8         25.4  ...            1           1.6           23.3   \n",
       "5        23.7         25.2  ...            1           1.6           22.4   \n",
       "6        23.4         25.6  ...          0.9           1.6           21.9   \n",
       "7        22.4         25.2  ...          0.9           1.5           21.1   \n",
       "8        21.5         26.1  ...          0.8           1.6             21   \n",
       "9         NaN          NaN  ...          NaN           NaN            NaN   \n",
       "\n",
       "  rate_age_25_34 rate_age_35_44 rate_age_45_54 rate_age_55_64 rate_65_74  \\\n",
       "0           23.6           17.3           13.6           11.7       10.9   \n",
       "1           24.7           17.7           13.8           11.7         11   \n",
       "2             25             18             14           11.7       11.3   \n",
       "3           24.8           18.1           14.5           12.1       11.7   \n",
       "4           24.5           18.4           14.7           12.3       11.7   \n",
       "5           24.2           18.4           14.9           12.9       12.1   \n",
       "6           23.6           18.3           14.9           13.1       12.1   \n",
       "7           22.9           18.1           14.8           13.4       11.9   \n",
       "8           22.5             18           14.7           13.5         12   \n",
       "9            NaN            NaN            NaN            NaN        NaN   \n",
       "\n",
       "  rate_age_75_84 rate_age_85_plus  \n",
       "0           15.1               16  \n",
       "1           15.7             17.3  \n",
       "2           16.1             17.8  \n",
       "3           16.2             18.3  \n",
       "4           16.3             19.2  \n",
       "5           16.6             18.1  \n",
       "6           16.3             18.6  \n",
       "7           16.5             18.5  \n",
       "8           16.3             17.7  \n",
       "9            NaN              NaN  \n",
       "\n",
       "[10 rows x 69 columns]"
      ]
     },
     "execution_count": 14,
     "metadata": {},
     "output_type": "execute_result"
    }
   ],
   "source": [
    "# Filtering DataFrame based on certain conditions\n",
    "df_gun = df_mortality[df_mortality['cause_of_death'] == \"Firearm-related injury\"]\n",
    "df_gun = df_gun[df_gun['rate_type'] == \"Crude\"]\n",
    "df_gun = df_gun[df_gun['time_period'] == \"12 months ending with quarter\"]\n",
    "\n",
    "# Creating DataFrame with row names as NULL\n",
    "df_gun = pd.DataFrame(df_gun.reset_index(drop=True))\n",
    "df_gun\n",
    "     "
   ]
  },
  {
   "cell_type": "markdown",
   "id": "85467ca9-4636-4272-9efb-7cd21e6b6f0a",
   "metadata": {},
   "source": [
    "I reformatted the data by assigning state abbreviations, simplifying the dataset and making it more visually presentable in the heatmap."
   ]
  },
  {
   "cell_type": "code",
   "execution_count": 16,
   "id": "5110d6ae-5b78-45d5-9dc1-3ec78b8d3c19",
   "metadata": {},
   "outputs": [
    {
     "data": {
      "text/plain": [
       "{'AL': 'alabama',\n",
       " 'AK': 'alaska',\n",
       " 'AZ': 'arizona',\n",
       " 'AR': 'arkansas',\n",
       " 'CA': 'california',\n",
       " 'CO': 'colorado',\n",
       " 'CT': 'connecticut',\n",
       " 'DE': 'delaware',\n",
       " 'FL': 'florida',\n",
       " 'GA': 'georgia',\n",
       " 'HI': 'hawaii',\n",
       " 'ID': 'idaho',\n",
       " 'IL': 'illinois',\n",
       " 'IN': 'indiana',\n",
       " 'IA': 'iowa',\n",
       " 'KS': 'kansas',\n",
       " 'KY': 'kentucky',\n",
       " 'LA': 'louisiana',\n",
       " 'ME': 'maine',\n",
       " 'MD': 'maryland',\n",
       " 'MA': 'massachusetts',\n",
       " 'MI': 'michigan',\n",
       " 'MN': 'minnesota',\n",
       " 'MS': 'mississippi',\n",
       " 'MO': 'missouri',\n",
       " 'MT': 'montana',\n",
       " 'NE': 'nebraska',\n",
       " 'NV': 'nevada',\n",
       " 'NH': 'new_hampshire',\n",
       " 'NJ': 'new_jersey',\n",
       " 'NM': 'new_mexico',\n",
       " 'NY': 'new_york',\n",
       " 'NC': 'north_carolina',\n",
       " 'ND': 'north_dakota',\n",
       " 'OH': 'ohio',\n",
       " 'OK': 'oklahoma',\n",
       " 'OR': 'oregon',\n",
       " 'PA': 'pennsylvania',\n",
       " 'RI': 'rhode_island',\n",
       " 'SC': 'south_carolina',\n",
       " 'SD': 'south_dakota',\n",
       " 'TN': 'tennessee',\n",
       " 'TX': 'texas',\n",
       " 'UT': 'utah',\n",
       " 'VT': 'vermont',\n",
       " 'VA': 'virginia',\n",
       " 'WA': 'washington',\n",
       " 'WV': 'west_virginia',\n",
       " 'WI': 'wisconsin',\n",
       " 'WY': 'wyoming',\n",
       " 'DC': 'district_of_columbia'}"
      ]
     },
     "execution_count": 16,
     "metadata": {},
     "output_type": "execute_result"
    }
   ],
   "source": [
    "# Mapping state abbreviations to full names\n",
    "state_abbreviations = {\n",
    "    \"AL\": \"alabama\", \"AK\": \"alaska\", \"AZ\": \"arizona\", \"AR\": \"arkansas\", \"CA\": \"california\",\n",
    "    \"CO\": \"colorado\", \"CT\": \"connecticut\", \"DE\": \"delaware\", \"FL\": \"florida\", \"GA\": \"georgia\",\n",
    "    \"HI\": \"hawaii\", \"ID\": \"idaho\", \"IL\": \"illinois\", \"IN\": \"indiana\", \"IA\": \"iowa\",\n",
    "    \"KS\": \"kansas\", \"KY\": \"kentucky\", \"LA\": \"louisiana\", \"ME\": \"maine\", \"MD\": \"maryland\",\n",
    "    \"MA\": \"massachusetts\", \"MI\": \"michigan\", \"MN\": \"minnesota\", \"MS\": \"mississippi\", \"MO\": \"missouri\",\n",
    "    \"MT\": \"montana\", \"NE\": \"nebraska\", \"NV\": \"nevada\", \"NH\": \"new_hampshire\", \"NJ\": \"new_jersey\",\n",
    "    \"NM\": \"new_mexico\", \"NY\": \"new_york\", \"NC\": \"north_carolina\", \"ND\": \"north_dakota\",\n",
    "    \"OH\": \"ohio\", \"OK\": \"oklahoma\", \"OR\": \"oregon\", \"PA\": \"pennsylvania\", \"RI\": \"rhode_island\",\n",
    "    \"SC\": \"south_carolina\", \"SD\": \"south_dakota\", \"TN\": \"tennessee\", \"TX\": \"texas\", \"UT\": \"utah\",\n",
    "    \"VT\": \"vermont\", \"VA\": \"virginia\", \"WA\": \"washington\", \"WV\": \"west_virginia\", \"WI\": \"wisconsin\",\n",
    "    \"WY\": \"wyoming\", \"DC\": \"district_of_columbia\"\n",
    "}\n",
    "\n",
    "# Looping through each state abbreviation\n",
    "for abbrev, full_name in state_abbreviations.items():\n",
    "    pattern = \"rate_\" + full_name\n",
    "    df_gun.columns = df_gun.columns.str.replace(pattern, abbrev)\n",
    "\n",
    "state_abbreviations"
   ]
  },
  {
   "cell_type": "markdown",
   "id": "2587c9d9-e025-4578-8b34-a7f72ca61f6f",
   "metadata": {},
   "source": [
    "After finishing the extraction of the year and filtering the data, I organized it neatly and assigned gun law ranks to each state through mapping."
   ]
  },
  {
   "cell_type": "code",
   "execution_count": 110,
   "id": "58461b42-41e7-45c5-9bef-e236c4fad01a",
   "metadata": {},
   "outputs": [],
   "source": [
    "# Data type conversion: columns 6 to 69 are converted to double.\n",
    "df_gun.iloc[:, 6:70] = df_gun.iloc[:, 6:70].apply(pd.to_numeric)\n",
    "\n",
    "# Extracting year from year_and_quarter and grouping by year\n",
    "df_gun['year'] = df_gun['year_and_quarter'].str[:1]\n",
    "df_gun_grouped = df_gun.groupby('year')\n",
    "\n",
    "# Filtering data for the year 2023 Q1\n",
    "df_gun_2023 = df_gun[df_gun['year_and_quarter'] == \"2023 Q1\"]"
   ]
  },
  {
   "cell_type": "code",
   "execution_count": 112,
   "id": "f5fbd5f1-f407-44cb-b010-0edb94f48f0b",
   "metadata": {},
   "outputs": [
    {
     "name": "stdout",
     "output_type": "stream",
     "text": [
      "    year state  rate  gun_laws\n",
      "0      2    AK  21.5         1\n",
      "1      2    AL  26.1         1\n",
      "2      2    AR  22.9         1\n",
      "3      2    AZ  20.7         1\n",
      "4      2    CA   8.9         5\n",
      "5      2    CO  17.8         4\n",
      "6      2    CT   6.6         5\n",
      "7      2    DC  25.3         5\n",
      "8      2    DE  12.6         4\n",
      "9      2    FL  14.8         3\n",
      "10     2    GA  19.5         1\n",
      "11     2    HI   4.4         5\n",
      "12     2    IA  12.3         1\n",
      "13     2    ID  17.7         1\n",
      "14     2    IL  14.3         5\n",
      "15     2    IN  18.2         1\n",
      "16     2    KS  16.0         1\n",
      "17     2    KY  18.2         1\n",
      "18     2    LA  27.4         1\n",
      "19     2    MA   3.8         5\n",
      "20     2    MD  12.8         5\n",
      "21     2    ME  12.7         1\n",
      "22     2    MI  14.5         3\n",
      "23     2    MN   9.6         3\n",
      "24     2    MO  23.5         1\n",
      "25     2    MS  28.3         1\n",
      "26     2    MT  23.4         1\n",
      "27     2    NC  16.8         3\n",
      "28     2    ND  14.0         1\n",
      "29     2    NE  11.4         3\n",
      "30     2    NH  11.6         1\n",
      "31     2    NJ   5.0         5\n",
      "32     2    NM  26.9         3\n",
      "33     2    NV  19.4         3\n",
      "34     2    NY   5.0         5\n",
      "35     2    OH  15.6         1\n",
      "36     2    OK  19.4         1\n",
      "37     2    OR  15.3         4\n",
      "38     2    PA  14.6         4\n",
      "39     2    RI   3.7         4\n",
      "40     2    SC  21.8         1\n",
      "41     2    SD  14.6         1\n",
      "42     2    TN  21.4         1\n",
      "43     2    TX  15.0         1\n",
      "44     2    UT  14.1         1\n",
      "45     2    VA  14.9         4\n",
      "46     2    VT  13.1         3\n",
      "47     2    WA  13.2         4\n",
      "48     2    WI  13.8         2\n",
      "49     2    WV  18.6         1\n",
      "50     2    WY  20.4         1\n"
     ]
    }
   ],
   "source": [
    "from prettytable import PrettyTable \n",
    "\n",
    "# Pivoting long\n",
    "df_gun_2023_long = df_gun_2023.melt(id_vars=['year', 'year_and_quarter'],\n",
    "                                     value_vars=['AK', 'AL', 'AR', 'AZ', 'CA', 'CO', 'CT', 'DC', 'DE', 'FL',\n",
    "                                                 'GA', 'HI', 'IA', 'ID', 'IL', 'IN', 'KS', 'KY', 'LA', 'MA',\n",
    "                                                 'MD', 'ME', 'MI', 'MN', 'MO', 'MS', 'MT', 'NC', 'ND', 'NE',\n",
    "                                                 'NH', 'NJ', 'NM', 'NV', 'NY', 'OH', 'OK', 'OR', 'PA', 'RI',\n",
    "                                                 'SC', 'SD', 'TN', 'TX', 'UT', 'VA', 'VT', 'WA', 'WI', 'WV',\n",
    "                                                 'WY'],\n",
    "                                     var_name='state',\n",
    "                                     value_name='rate')\n",
    "\n",
    "# Selecting specific columns for final DataFrame\n",
    "final_df = df_gun_2023_long[['year', 'state', 'rate']]\n",
    "\n",
    "# Add gun law rank to final_df\n",
    "final_df['gun_laws'] = final_df['state'].map({\n",
    "    \"AK\": \"1\", \"AL\": \"1\", \"AR\": \"1\", \"AZ\": \"1\", \"GA\": \"1\", \"IA\": \"1\", \"ID\": \"1\", \"IN\": \"1\", \"KS\": \"1\",\n",
    "    \"KY\": \"1\", \"LA\": \"1\", \"ME\": \"1\", \"MO\": \"1\", \"MS\": \"1\", \"MT\": \"1\", \"ND\": \"1\", \"NH\": \"1\", \"OH\": \"1\",\n",
    "    \"OK\": \"1\", \"SC\": \"1\", \"SD\": \"1\", \"TN\": \"1\", \"TX\": \"1\", \"UT\": \"1\", \"WV\": \"1\", \"WY\": \"1\",\n",
    "    \"WI\": \"2\",\n",
    "    \"FL\": \"3\", \"MI\": \"3\", \"MN\": \"3\", \"NC\": \"3\", \"NE\": \"3\", \"NM\": \"3\", \"NV\": \"3\", \"VT\": \"3\",\n",
    "    \"CO\": \"4\", \"DE\": \"4\", \"OR\": \"4\", \"PA\": \"4\", \"RI\": \"4\", \"VA\": \"4\", \"WA\": \"4\",\n",
    "    \"CA\": \"5\", \"CT\": \"5\", \"DC\": \"5\", \"HI\": \"5\", \"IL\": \"5\", \"MA\": \"5\", \"MD\": \"5\", \"NJ\": \"5\", \"NY\": \"5\"\n",
    "})\n",
    "\n",
    "# Converting gun_laws and year to numeric type\n",
    "final_df['gun_laws'] = pd.to_numeric(final_df['gun_laws'])\n",
    "final_df['year'] = pd.to_numeric(final_df['year'])\n",
    "\n",
    "# Displaying final DataFrame\n",
    "print(final_df)"
   ]
  },
  {
   "cell_type": "markdown",
   "id": "431da25a-d054-47d2-8d4c-5cc4dfa51cb3",
   "metadata": {},
   "source": [
    "Following that, I developed a mapping dictionary for a Likert scale, which facilitated the creation of a heatmap categorized according to gun control law ranks. Subsequently, I implemented Likert scale categorization based on these ranks."
   ]
  },
  {
   "cell_type": "code",
   "execution_count": 100,
   "id": "53550b84-a696-4e61-a6d5-19caa2537b83",
   "metadata": {
    "scrolled": true
   },
   "outputs": [
    {
     "name": "stdout",
     "output_type": "stream",
     "text": [
      "    year state  rate  gun_laws likert_scale\n",
      "0   2023    AK  21.5         1     Very Lax\n",
      "1   2023    AL  26.1         1     Very Lax\n",
      "2   2023    AR  22.9         1     Very Lax\n",
      "3   2023    AZ  20.7         1     Very Lax\n",
      "4   2023    CA   8.9         5  Very Strict\n",
      "5   2023    CO  17.8         4       Strict\n",
      "6   2023    CT   6.6         5  Very Strict\n",
      "7   2023    DC  25.3         5  Very Strict\n",
      "8   2023    DE  12.6         4       Strict\n",
      "9   2023    FL  14.8         3     Moderate\n",
      "10  2023    GA  19.5         1     Very Lax\n",
      "11  2023    HI   4.4         5  Very Strict\n",
      "12  2023    IA  12.3         1     Very Lax\n",
      "13  2023    ID  17.7         1     Very Lax\n",
      "14  2023    IL  14.3         5  Very Strict\n",
      "15  2023    IN  18.2         1     Very Lax\n",
      "16  2023    KS  16.0         1     Very Lax\n",
      "17  2023    KY  18.2         1     Very Lax\n",
      "18  2023    LA  27.4         1     Very Lax\n",
      "19  2023    MA   3.8         5  Very Strict\n",
      "20  2023    MD  12.8         5  Very Strict\n",
      "21  2023    ME  12.7         1     Very Lax\n",
      "22  2023    MI  14.5         3     Moderate\n",
      "23  2023    MN   9.6         3     Moderate\n",
      "24  2023    MO  23.5         1     Very Lax\n",
      "25  2023    MS  28.3         1     Very Lax\n",
      "26  2023    MT  23.4         1     Very Lax\n",
      "27  2023    NC  16.8         3     Moderate\n",
      "28  2023    ND  14.0         1     Very Lax\n",
      "29  2023    NE  11.4         3     Moderate\n",
      "30  2023    NH  11.6         1     Very Lax\n",
      "31  2023    NJ   5.0         5  Very Strict\n",
      "32  2023    NM  26.9         3     Moderate\n",
      "33  2023    NV  19.4         3     Moderate\n",
      "34  2023    NY   5.0         5  Very Strict\n",
      "35  2023    OH  15.6         1     Very Lax\n",
      "36  2023    OK  19.4         1     Very Lax\n",
      "37  2023    OR  15.3         4       Strict\n",
      "38  2023    PA  14.6         4       Strict\n",
      "39  2023    RI   3.7         4       Strict\n",
      "40  2023    SC  21.8         1     Very Lax\n",
      "41  2023    SD  14.6         1     Very Lax\n",
      "42  2023    TN  21.4         1     Very Lax\n",
      "43  2023    TX  15.0         1     Very Lax\n",
      "44  2023    UT  14.1         1     Very Lax\n",
      "45  2023    VA  14.9         4       Strict\n",
      "46  2023    VT  13.1         3     Moderate\n",
      "47  2023    WA  13.2         4       Strict\n",
      "48  2023    WI  13.8         2          Lax\n",
      "49  2023    WV  18.6         1     Very Lax\n",
      "50  2023    WY  20.4         1     Very Lax\n"
     ]
    }
   ],
   "source": [
    "# Creating a mapping dictionary for Likert scale\n",
    "likert_scale_mapping = {\n",
    "    1: \"Very Lax\",\n",
    "    2: \"Lax\",\n",
    "    3: \"Moderate\",\n",
    "    4: \"Strict\",\n",
    "    5: \"Very Strict\"\n",
    "}\n",
    "\n",
    "# Applying Likert scale categorization based on gun control law ranks\n",
    "final_df['likert_scale'] = final_df['gun_laws'].map(likert_scale_mapping)\n",
    "\n",
    "# Displaying final DataFrame with Likert scale\n",
    "print(final_df)"
   ]
  },
  {
   "cell_type": "code",
   "execution_count": 114,
   "id": "0ea76c1c-443e-4998-a60f-f9ec54251a19",
   "metadata": {},
   "outputs": [
    {
     "name": "stdout",
     "output_type": "stream",
     "text": [
      "   state  rate  gun_laws\n",
      "25    MS  28.3         1\n",
      "18    LA  27.4         1\n",
      "32    NM  26.9         3\n",
      "1     AL  26.1         1\n",
      "7     DC  25.3         5\n",
      "24    MO  23.5         1\n",
      "26    MT  23.4         1\n",
      "2     AR  22.9         1\n",
      "40    SC  21.8         1\n",
      "0     AK  21.5         1\n",
      "42    TN  21.4         1\n",
      "3     AZ  20.7         1\n",
      "50    WY  20.4         1\n",
      "10    GA  19.5         1\n",
      "36    OK  19.4         1\n",
      "33    NV  19.4         3\n",
      "49    WV  18.6         1\n",
      "17    KY  18.2         1\n",
      "15    IN  18.2         1\n",
      "5     CO  17.8         4\n",
      "13    ID  17.7         1\n",
      "27    NC  16.8         3\n",
      "16    KS  16.0         1\n",
      "35    OH  15.6         1\n",
      "37    OR  15.3         4\n",
      "43    TX  15.0         1\n",
      "45    VA  14.9         4\n",
      "9     FL  14.8         3\n",
      "38    PA  14.6         4\n",
      "41    SD  14.6         1\n",
      "22    MI  14.5         3\n",
      "14    IL  14.3         5\n",
      "44    UT  14.1         1\n",
      "28    ND  14.0         1\n",
      "48    WI  13.8         2\n",
      "47    WA  13.2         4\n",
      "46    VT  13.1         3\n",
      "20    MD  12.8         5\n",
      "21    ME  12.7         1\n",
      "8     DE  12.6         4\n",
      "12    IA  12.3         1\n",
      "30    NH  11.6         1\n",
      "29    NE  11.4         3\n",
      "23    MN   9.6         3\n",
      "4     CA   8.9         5\n",
      "6     CT   6.6         5\n",
      "34    NY   5.0         5\n",
      "31    NJ   5.0         5\n",
      "11    HI   4.4         5\n",
      "19    MA   3.8         5\n",
      "39    RI   3.7         4\n"
     ]
    }
   ],
   "source": [
    "# Sort the DataFrame by the \"rate\" column in descending order\n",
    "final_df_sorted = final_df.sort_values(by='rate', ascending=False)\n",
    "\n",
    "# Print the sorted DataFrame with Likert scale\n",
    "print(final_df_sorted[['state', 'rate', 'gun_laws']])"
   ]
  },
  {
   "cell_type": "code",
   "execution_count": 116,
   "id": "661165e1-5b93-46a1-a107-41a82a2fb667",
   "metadata": {},
   "outputs": [
    {
     "name": "stdout",
     "output_type": "stream",
     "text": [
      "   state  rate  gun_laws\n",
      "14    IL  14.3         5\n",
      "4     CA   8.9         5\n",
      "20    MD  12.8         5\n",
      "6     CT   6.6         5\n",
      "7     DC  25.3         5\n",
      "19    MA   3.8         5\n",
      "34    NY   5.0         5\n",
      "31    NJ   5.0         5\n",
      "11    HI   4.4         5\n",
      "45    VA  14.9         4\n",
      "38    PA  14.6         4\n",
      "39    RI   3.7         4\n",
      "37    OR  15.3         4\n",
      "47    WA  13.2         4\n",
      "8     DE  12.6         4\n",
      "5     CO  17.8         4\n",
      "27    NC  16.8         3\n",
      "46    VT  13.1         3\n",
      "9     FL  14.8         3\n",
      "29    NE  11.4         3\n",
      "22    MI  14.5         3\n",
      "23    MN   9.6         3\n",
      "32    NM  26.9         3\n",
      "33    NV  19.4         3\n",
      "48    WI  13.8         2\n",
      "35    OH  15.6         1\n",
      "36    OK  19.4         1\n",
      "0     AK  21.5         1\n",
      "40    SC  21.8         1\n",
      "41    SD  14.6         1\n",
      "43    TX  15.0         1\n",
      "44    UT  14.1         1\n",
      "49    WV  18.6         1\n",
      "42    TN  21.4         1\n",
      "25    MS  28.3         1\n",
      "30    NH  11.6         1\n",
      "28    ND  14.0         1\n",
      "26    MT  23.4         1\n",
      "1     AL  26.1         1\n",
      "24    MO  23.5         1\n",
      "21    ME  12.7         1\n",
      "18    LA  27.4         1\n",
      "17    KY  18.2         1\n",
      "16    KS  16.0         1\n",
      "15    IN  18.2         1\n",
      "13    ID  17.7         1\n",
      "12    IA  12.3         1\n",
      "10    GA  19.5         1\n",
      "3     AZ  20.7         1\n",
      "2     AR  22.9         1\n",
      "50    WY  20.4         1\n"
     ]
    }
   ],
   "source": [
    "# Sort the DataFrame by the \"gun_laws\" column in descending order\n",
    "final_df_sorted = final_df.sort_values(by='gun_laws', ascending=False)\n",
    "\n",
    "# Print the sorted DataFrame with Likert scale\n",
    "print(final_df_sorted[['state', 'rate', 'gun_laws']])"
   ]
  },
  {
   "cell_type": "code",
   "execution_count": 118,
   "id": "fa7f0efe-70c5-4640-8e32-d5df5deca2d7",
   "metadata": {},
   "outputs": [
    {
     "name": "stdout",
     "output_type": "stream",
     "text": [
      "   state  rate  gun_laws\n",
      "50    WY  20.4         1\n",
      "49    WV  18.6         1\n",
      "48    WI  13.8         2\n",
      "47    WA  13.2         4\n",
      "46    VT  13.1         3\n",
      "45    VA  14.9         4\n",
      "44    UT  14.1         1\n",
      "43    TX  15.0         1\n",
      "42    TN  21.4         1\n",
      "41    SD  14.6         1\n",
      "40    SC  21.8         1\n",
      "39    RI   3.7         4\n",
      "38    PA  14.6         4\n",
      "37    OR  15.3         4\n",
      "36    OK  19.4         1\n",
      "35    OH  15.6         1\n",
      "34    NY   5.0         5\n",
      "33    NV  19.4         3\n",
      "32    NM  26.9         3\n",
      "31    NJ   5.0         5\n",
      "30    NH  11.6         1\n",
      "29    NE  11.4         3\n",
      "28    ND  14.0         1\n",
      "27    NC  16.8         3\n",
      "26    MT  23.4         1\n",
      "25    MS  28.3         1\n",
      "24    MO  23.5         1\n",
      "23    MN   9.6         3\n",
      "22    MI  14.5         3\n",
      "21    ME  12.7         1\n",
      "20    MD  12.8         5\n",
      "19    MA   3.8         5\n",
      "18    LA  27.4         1\n",
      "17    KY  18.2         1\n",
      "16    KS  16.0         1\n",
      "15    IN  18.2         1\n",
      "14    IL  14.3         5\n",
      "13    ID  17.7         1\n",
      "12    IA  12.3         1\n",
      "11    HI   4.4         5\n",
      "10    GA  19.5         1\n",
      "9     FL  14.8         3\n",
      "8     DE  12.6         4\n",
      "7     DC  25.3         5\n",
      "6     CT   6.6         5\n",
      "5     CO  17.8         4\n",
      "4     CA   8.9         5\n",
      "3     AZ  20.7         1\n",
      "2     AR  22.9         1\n",
      "1     AL  26.1         1\n",
      "0     AK  21.5         1\n"
     ]
    }
   ],
   "source": [
    "# Sort the DataFrame by the \"state\" column in descending order\n",
    "final_df_sorted = final_df.sort_values(by='state', ascending=False)\n",
    "\n",
    "# Print the sorted DataFrame with Likert scale\n",
    "print(final_df_sorted[['state', 'rate', 'gun_laws']])     "
   ]
  },
  {
   "cell_type": "markdown",
   "id": "65458254-e5f9-4ee1-92e7-f1087235abcb",
   "metadata": {},
   "source": [
    "Following that, I generated an interactive choropleth heatmap to illustrate the correlation between gun control laws (rates) and gun violence deaths (mortality rates). I established a Likert scale for mortality rates, categorizing states based on the severity of gun violence, ranging from safest to deadliest. Similarly, I defined a Likert scale for gun control laws, ranging from most lenient to most stringent, based on rates."
   ]
  },
  {
   "cell_type": "code",
   "execution_count": 134,
   "id": "0e4d0a33-5db8-4f74-878f-28f89b49f0db",
   "metadata": {},
   "outputs": [
    {
     "data": {
      "application/vnd.plotly.v1+json": {
       "config": {
        "plotlyServerURL": "https://plot.ly"
       },
       "data": [
        {
         "colorbar": {
          "len": 0.75,
          "ticktext": [
           "Most Lax",
           "Lax",
           "Neutral",
           "Strict",
           "Most Strict"
          ],
          "tickvals": [
           1,
           2,
           3,
           4,
           5
          ],
          "title": {
           "text": "Gun Law Rank"
          }
         },
         "colorscale": [
          [
           0,
           "rgb(254, 246, 181)"
          ],
          [
           0.16666666666666666,
           "rgb(255, 221, 154)"
          ],
          [
           0.3333333333333333,
           "rgb(255, 194, 133)"
          ],
          [
           0.5,
           "rgb(255, 166, 121)"
          ],
          [
           0.6666666666666666,
           "rgb(250, 138, 118)"
          ],
          [
           0.8333333333333334,
           "rgb(241, 109, 122)"
          ],
          [
           1,
           "rgb(225, 83, 131)"
          ]
         ],
         "locationmode": "USA-states",
         "locations": [
          "AK",
          "AL",
          "AR",
          "AZ",
          "CA",
          "CO",
          "CT",
          "DC",
          "DE",
          "FL",
          "GA",
          "HI",
          "IA",
          "ID",
          "IL",
          "IN",
          "KS",
          "KY",
          "LA",
          "MA",
          "MD",
          "ME",
          "MI",
          "MN",
          "MO",
          "MS",
          "MT",
          "NC",
          "ND",
          "NE",
          "NH",
          "NJ",
          "NM",
          "NV",
          "NY",
          "OH",
          "OK",
          "OR",
          "PA",
          "RI",
          "SC",
          "SD",
          "TN",
          "TX",
          "UT",
          "VA",
          "VT",
          "WA",
          "WI",
          "WV",
          "WY"
         ],
         "text": [
          "Most Lax",
          "Most Lax",
          "Most Lax",
          "Most Lax",
          "Most Strict",
          "Strict",
          "Most Strict",
          "Most Strict",
          "Strict",
          "Neutral",
          "Most Lax",
          "Most Strict",
          "Most Lax",
          "Most Lax",
          "Most Strict",
          "Most Lax",
          "Most Lax",
          "Most Lax",
          "Most Lax",
          "Most Strict",
          "Most Strict",
          "Most Lax",
          "Neutral",
          "Neutral",
          "Most Lax",
          "Most Lax",
          "Most Lax",
          "Neutral",
          "Most Lax",
          "Neutral",
          "Most Lax",
          "Most Strict",
          "Neutral",
          "Neutral",
          "Most Strict",
          "Most Lax",
          "Most Lax",
          "Strict",
          "Strict",
          "Strict",
          "Most Lax",
          "Most Lax",
          "Most Lax",
          "Most Lax",
          "Most Lax",
          "Strict",
          "Neutral",
          "Strict",
          "Lax",
          "Most Lax",
          "Most Lax"
         ],
         "type": "choropleth",
         "z": [
          1,
          1,
          1,
          1,
          5,
          4,
          5,
          5,
          4,
          3,
          1,
          5,
          1,
          1,
          5,
          1,
          1,
          1,
          1,
          5,
          5,
          1,
          3,
          3,
          1,
          1,
          1,
          3,
          1,
          3,
          1,
          5,
          3,
          3,
          5,
          1,
          1,
          4,
          4,
          4,
          1,
          1,
          1,
          1,
          1,
          4,
          3,
          4,
          2,
          1,
          1
         ]
        }
       ],
       "layout": {
        "autosize": true,
        "geo": {
         "projection": {
          "type": "albers usa"
         },
         "scope": "usa"
        },
        "template": {
         "data": {
          "bar": [
           {
            "error_x": {
             "color": "#2a3f5f"
            },
            "error_y": {
             "color": "#2a3f5f"
            },
            "marker": {
             "line": {
              "color": "#E5ECF6",
              "width": 0.5
             },
             "pattern": {
              "fillmode": "overlay",
              "size": 10,
              "solidity": 0.2
             }
            },
            "type": "bar"
           }
          ],
          "barpolar": [
           {
            "marker": {
             "line": {
              "color": "#E5ECF6",
              "width": 0.5
             },
             "pattern": {
              "fillmode": "overlay",
              "size": 10,
              "solidity": 0.2
             }
            },
            "type": "barpolar"
           }
          ],
          "carpet": [
           {
            "aaxis": {
             "endlinecolor": "#2a3f5f",
             "gridcolor": "white",
             "linecolor": "white",
             "minorgridcolor": "white",
             "startlinecolor": "#2a3f5f"
            },
            "baxis": {
             "endlinecolor": "#2a3f5f",
             "gridcolor": "white",
             "linecolor": "white",
             "minorgridcolor": "white",
             "startlinecolor": "#2a3f5f"
            },
            "type": "carpet"
           }
          ],
          "choropleth": [
           {
            "colorbar": {
             "outlinewidth": 0,
             "ticks": ""
            },
            "type": "choropleth"
           }
          ],
          "contour": [
           {
            "colorbar": {
             "outlinewidth": 0,
             "ticks": ""
            },
            "colorscale": [
             [
              0,
              "#0d0887"
             ],
             [
              0.1111111111111111,
              "#46039f"
             ],
             [
              0.2222222222222222,
              "#7201a8"
             ],
             [
              0.3333333333333333,
              "#9c179e"
             ],
             [
              0.4444444444444444,
              "#bd3786"
             ],
             [
              0.5555555555555556,
              "#d8576b"
             ],
             [
              0.6666666666666666,
              "#ed7953"
             ],
             [
              0.7777777777777778,
              "#fb9f3a"
             ],
             [
              0.8888888888888888,
              "#fdca26"
             ],
             [
              1,
              "#f0f921"
             ]
            ],
            "type": "contour"
           }
          ],
          "contourcarpet": [
           {
            "colorbar": {
             "outlinewidth": 0,
             "ticks": ""
            },
            "type": "contourcarpet"
           }
          ],
          "heatmap": [
           {
            "colorbar": {
             "outlinewidth": 0,
             "ticks": ""
            },
            "colorscale": [
             [
              0,
              "#0d0887"
             ],
             [
              0.1111111111111111,
              "#46039f"
             ],
             [
              0.2222222222222222,
              "#7201a8"
             ],
             [
              0.3333333333333333,
              "#9c179e"
             ],
             [
              0.4444444444444444,
              "#bd3786"
             ],
             [
              0.5555555555555556,
              "#d8576b"
             ],
             [
              0.6666666666666666,
              "#ed7953"
             ],
             [
              0.7777777777777778,
              "#fb9f3a"
             ],
             [
              0.8888888888888888,
              "#fdca26"
             ],
             [
              1,
              "#f0f921"
             ]
            ],
            "type": "heatmap"
           }
          ],
          "heatmapgl": [
           {
            "colorbar": {
             "outlinewidth": 0,
             "ticks": ""
            },
            "colorscale": [
             [
              0,
              "#0d0887"
             ],
             [
              0.1111111111111111,
              "#46039f"
             ],
             [
              0.2222222222222222,
              "#7201a8"
             ],
             [
              0.3333333333333333,
              "#9c179e"
             ],
             [
              0.4444444444444444,
              "#bd3786"
             ],
             [
              0.5555555555555556,
              "#d8576b"
             ],
             [
              0.6666666666666666,
              "#ed7953"
             ],
             [
              0.7777777777777778,
              "#fb9f3a"
             ],
             [
              0.8888888888888888,
              "#fdca26"
             ],
             [
              1,
              "#f0f921"
             ]
            ],
            "type": "heatmapgl"
           }
          ],
          "histogram": [
           {
            "marker": {
             "pattern": {
              "fillmode": "overlay",
              "size": 10,
              "solidity": 0.2
             }
            },
            "type": "histogram"
           }
          ],
          "histogram2d": [
           {
            "colorbar": {
             "outlinewidth": 0,
             "ticks": ""
            },
            "colorscale": [
             [
              0,
              "#0d0887"
             ],
             [
              0.1111111111111111,
              "#46039f"
             ],
             [
              0.2222222222222222,
              "#7201a8"
             ],
             [
              0.3333333333333333,
              "#9c179e"
             ],
             [
              0.4444444444444444,
              "#bd3786"
             ],
             [
              0.5555555555555556,
              "#d8576b"
             ],
             [
              0.6666666666666666,
              "#ed7953"
             ],
             [
              0.7777777777777778,
              "#fb9f3a"
             ],
             [
              0.8888888888888888,
              "#fdca26"
             ],
             [
              1,
              "#f0f921"
             ]
            ],
            "type": "histogram2d"
           }
          ],
          "histogram2dcontour": [
           {
            "colorbar": {
             "outlinewidth": 0,
             "ticks": ""
            },
            "colorscale": [
             [
              0,
              "#0d0887"
             ],
             [
              0.1111111111111111,
              "#46039f"
             ],
             [
              0.2222222222222222,
              "#7201a8"
             ],
             [
              0.3333333333333333,
              "#9c179e"
             ],
             [
              0.4444444444444444,
              "#bd3786"
             ],
             [
              0.5555555555555556,
              "#d8576b"
             ],
             [
              0.6666666666666666,
              "#ed7953"
             ],
             [
              0.7777777777777778,
              "#fb9f3a"
             ],
             [
              0.8888888888888888,
              "#fdca26"
             ],
             [
              1,
              "#f0f921"
             ]
            ],
            "type": "histogram2dcontour"
           }
          ],
          "mesh3d": [
           {
            "colorbar": {
             "outlinewidth": 0,
             "ticks": ""
            },
            "type": "mesh3d"
           }
          ],
          "parcoords": [
           {
            "line": {
             "colorbar": {
              "outlinewidth": 0,
              "ticks": ""
             }
            },
            "type": "parcoords"
           }
          ],
          "pie": [
           {
            "automargin": true,
            "type": "pie"
           }
          ],
          "scatter": [
           {
            "fillpattern": {
             "fillmode": "overlay",
             "size": 10,
             "solidity": 0.2
            },
            "type": "scatter"
           }
          ],
          "scatter3d": [
           {
            "line": {
             "colorbar": {
              "outlinewidth": 0,
              "ticks": ""
             }
            },
            "marker": {
             "colorbar": {
              "outlinewidth": 0,
              "ticks": ""
             }
            },
            "type": "scatter3d"
           }
          ],
          "scattercarpet": [
           {
            "marker": {
             "colorbar": {
              "outlinewidth": 0,
              "ticks": ""
             }
            },
            "type": "scattercarpet"
           }
          ],
          "scattergeo": [
           {
            "marker": {
             "colorbar": {
              "outlinewidth": 0,
              "ticks": ""
             }
            },
            "type": "scattergeo"
           }
          ],
          "scattergl": [
           {
            "marker": {
             "colorbar": {
              "outlinewidth": 0,
              "ticks": ""
             }
            },
            "type": "scattergl"
           }
          ],
          "scattermapbox": [
           {
            "marker": {
             "colorbar": {
              "outlinewidth": 0,
              "ticks": ""
             }
            },
            "type": "scattermapbox"
           }
          ],
          "scatterpolar": [
           {
            "marker": {
             "colorbar": {
              "outlinewidth": 0,
              "ticks": ""
             }
            },
            "type": "scatterpolar"
           }
          ],
          "scatterpolargl": [
           {
            "marker": {
             "colorbar": {
              "outlinewidth": 0,
              "ticks": ""
             }
            },
            "type": "scatterpolargl"
           }
          ],
          "scatterternary": [
           {
            "marker": {
             "colorbar": {
              "outlinewidth": 0,
              "ticks": ""
             }
            },
            "type": "scatterternary"
           }
          ],
          "surface": [
           {
            "colorbar": {
             "outlinewidth": 0,
             "ticks": ""
            },
            "colorscale": [
             [
              0,
              "#0d0887"
             ],
             [
              0.1111111111111111,
              "#46039f"
             ],
             [
              0.2222222222222222,
              "#7201a8"
             ],
             [
              0.3333333333333333,
              "#9c179e"
             ],
             [
              0.4444444444444444,
              "#bd3786"
             ],
             [
              0.5555555555555556,
              "#d8576b"
             ],
             [
              0.6666666666666666,
              "#ed7953"
             ],
             [
              0.7777777777777778,
              "#fb9f3a"
             ],
             [
              0.8888888888888888,
              "#fdca26"
             ],
             [
              1,
              "#f0f921"
             ]
            ],
            "type": "surface"
           }
          ],
          "table": [
           {
            "cells": {
             "fill": {
              "color": "#EBF0F8"
             },
             "line": {
              "color": "white"
             }
            },
            "header": {
             "fill": {
              "color": "#C8D4E3"
             },
             "line": {
              "color": "white"
             }
            },
            "type": "table"
           }
          ]
         },
         "layout": {
          "annotationdefaults": {
           "arrowcolor": "#2a3f5f",
           "arrowhead": 0,
           "arrowwidth": 1
          },
          "autotypenumbers": "strict",
          "coloraxis": {
           "colorbar": {
            "outlinewidth": 0,
            "ticks": ""
           }
          },
          "colorscale": {
           "diverging": [
            [
             0,
             "#8e0152"
            ],
            [
             0.1,
             "#c51b7d"
            ],
            [
             0.2,
             "#de77ae"
            ],
            [
             0.3,
             "#f1b6da"
            ],
            [
             0.4,
             "#fde0ef"
            ],
            [
             0.5,
             "#f7f7f7"
            ],
            [
             0.6,
             "#e6f5d0"
            ],
            [
             0.7,
             "#b8e186"
            ],
            [
             0.8,
             "#7fbc41"
            ],
            [
             0.9,
             "#4d9221"
            ],
            [
             1,
             "#276419"
            ]
           ],
           "sequential": [
            [
             0,
             "#0d0887"
            ],
            [
             0.1111111111111111,
             "#46039f"
            ],
            [
             0.2222222222222222,
             "#7201a8"
            ],
            [
             0.3333333333333333,
             "#9c179e"
            ],
            [
             0.4444444444444444,
             "#bd3786"
            ],
            [
             0.5555555555555556,
             "#d8576b"
            ],
            [
             0.6666666666666666,
             "#ed7953"
            ],
            [
             0.7777777777777778,
             "#fb9f3a"
            ],
            [
             0.8888888888888888,
             "#fdca26"
            ],
            [
             1,
             "#f0f921"
            ]
           ],
           "sequentialminus": [
            [
             0,
             "#0d0887"
            ],
            [
             0.1111111111111111,
             "#46039f"
            ],
            [
             0.2222222222222222,
             "#7201a8"
            ],
            [
             0.3333333333333333,
             "#9c179e"
            ],
            [
             0.4444444444444444,
             "#bd3786"
            ],
            [
             0.5555555555555556,
             "#d8576b"
            ],
            [
             0.6666666666666666,
             "#ed7953"
            ],
            [
             0.7777777777777778,
             "#fb9f3a"
            ],
            [
             0.8888888888888888,
             "#fdca26"
            ],
            [
             1,
             "#f0f921"
            ]
           ]
          },
          "colorway": [
           "#636efa",
           "#EF553B",
           "#00cc96",
           "#ab63fa",
           "#FFA15A",
           "#19d3f3",
           "#FF6692",
           "#B6E880",
           "#FF97FF",
           "#FECB52"
          ],
          "font": {
           "color": "#2a3f5f"
          },
          "geo": {
           "bgcolor": "white",
           "lakecolor": "white",
           "landcolor": "#E5ECF6",
           "showlakes": true,
           "showland": true,
           "subunitcolor": "white"
          },
          "hoverlabel": {
           "align": "left"
          },
          "hovermode": "closest",
          "mapbox": {
           "style": "light"
          },
          "paper_bgcolor": "white",
          "plot_bgcolor": "#E5ECF6",
          "polar": {
           "angularaxis": {
            "gridcolor": "white",
            "linecolor": "white",
            "ticks": ""
           },
           "bgcolor": "#E5ECF6",
           "radialaxis": {
            "gridcolor": "white",
            "linecolor": "white",
            "ticks": ""
           }
          },
          "scene": {
           "xaxis": {
            "backgroundcolor": "#E5ECF6",
            "gridcolor": "white",
            "gridwidth": 2,
            "linecolor": "white",
            "showbackground": true,
            "ticks": "",
            "zerolinecolor": "white"
           },
           "yaxis": {
            "backgroundcolor": "#E5ECF6",
            "gridcolor": "white",
            "gridwidth": 2,
            "linecolor": "white",
            "showbackground": true,
            "ticks": "",
            "zerolinecolor": "white"
           },
           "zaxis": {
            "backgroundcolor": "#E5ECF6",
            "gridcolor": "white",
            "gridwidth": 2,
            "linecolor": "white",
            "showbackground": true,
            "ticks": "",
            "zerolinecolor": "white"
           }
          },
          "shapedefaults": {
           "line": {
            "color": "#2a3f5f"
           }
          },
          "ternary": {
           "aaxis": {
            "gridcolor": "white",
            "linecolor": "white",
            "ticks": ""
           },
           "baxis": {
            "gridcolor": "white",
            "linecolor": "white",
            "ticks": ""
           },
           "bgcolor": "#E5ECF6",
           "caxis": {
            "gridcolor": "white",
            "linecolor": "white",
            "ticks": ""
           }
          },
          "title": {
           "x": 0.05
          },
          "xaxis": {
           "automargin": true,
           "gridcolor": "white",
           "linecolor": "white",
           "ticks": "",
           "title": {
            "standoff": 15
           },
           "zerolinecolor": "white",
           "zerolinewidth": 2
          },
          "yaxis": {
           "automargin": true,
           "gridcolor": "white",
           "linecolor": "white",
           "ticks": "",
           "title": {
            "standoff": 15
           },
           "zerolinecolor": "white",
           "zerolinewidth": 2
          }
         }
        },
        "title": {
         "text": "Gun Control Laws by States in USA"
        },
        "xaxis": {
         "title": {
          "text": "Gun Control Laws (Likert Scale)"
         }
        },
        "yaxis": {
         "title": {
          "text": "State"
         }
        }
       }
      },
      "image/png": "[encoded data removed]",
      "text/html": [
       "<div>                            <div id=\"72616294-8d36-4798-9de3-7d6370c47319\" class=\"plotly-graph-div\" style=\"height:525px; width:100%;\"></div>            <script type=\"text/javascript\">                require([\"plotly\"], function(Plotly) {                    window.PLOTLYENV=window.PLOTLYENV || {};                                    if (document.getElementById(\"72616294-8d36-4798-9de3-7d6370c47319\")) {                    Plotly.newPlot(                        \"72616294-8d36-4798-9de3-7d6370c47319\",                        [{\"colorbar\":{\"len\":0.75,\"ticktext\":[\"Most Lax\",\"Lax\",\"Neutral\",\"Strict\",\"Most Strict\"],\"tickvals\":[1,2,3,4,5],\"title\":{\"text\":\"Gun Law Rank\"}},\"colorscale\":[[0.0,\"rgb(254, 246, 181)\"],[0.16666666666666666,\"rgb(255, 221, 154)\"],[0.3333333333333333,\"rgb(255, 194, 133)\"],[0.5,\"rgb(255, 166, 121)\"],[0.6666666666666666,\"rgb(250, 138, 118)\"],[0.8333333333333334,\"rgb(241, 109, 122)\"],[1.0,\"rgb(225, 83, 131)\"]],\"locationmode\":\"USA-states\",\"locations\":[\"AK\",\"AL\",\"AR\",\"AZ\",\"CA\",\"CO\",\"CT\",\"DC\",\"DE\",\"FL\",\"GA\",\"HI\",\"IA\",\"ID\",\"IL\",\"IN\",\"KS\",\"KY\",\"LA\",\"MA\",\"MD\",\"ME\",\"MI\",\"MN\",\"MO\",\"MS\",\"MT\",\"NC\",\"ND\",\"NE\",\"NH\",\"NJ\",\"NM\",\"NV\",\"NY\",\"OH\",\"OK\",\"OR\",\"PA\",\"RI\",\"SC\",\"SD\",\"TN\",\"TX\",\"UT\",\"VA\",\"VT\",\"WA\",\"WI\",\"WV\",\"WY\"],\"text\":[\"Most Lax\",\"Most Lax\",\"Most Lax\",\"Most Lax\",\"Most Strict\",\"Strict\",\"Most Strict\",\"Most Strict\",\"Strict\",\"Neutral\",\"Most Lax\",\"Most Strict\",\"Most Lax\",\"Most Lax\",\"Most Strict\",\"Most Lax\",\"Most Lax\",\"Most Lax\",\"Most Lax\",\"Most Strict\",\"Most Strict\",\"Most Lax\",\"Neutral\",\"Neutral\",\"Most Lax\",\"Most Lax\",\"Most Lax\",\"Neutral\",\"Most Lax\",\"Neutral\",\"Most Lax\",\"Most Strict\",\"Neutral\",\"Neutral\",\"Most Strict\",\"Most Lax\",\"Most Lax\",\"Strict\",\"Strict\",\"Strict\",\"Most Lax\",\"Most Lax\",\"Most Lax\",\"Most Lax\",\"Most Lax\",\"Strict\",\"Neutral\",\"Strict\",\"Lax\",\"Most Lax\",\"Most Lax\"],\"z\":[1,1,1,1,5,4,5,5,4,3,1,5,1,1,5,1,1,1,1,5,5,1,3,3,1,1,1,3,1,3,1,5,3,3,5,1,1,4,4,4,1,1,1,1,1,4,3,4,2,1,1],\"type\":\"choropleth\"}],                        {\"template\":{\"data\":{\"histogram2dcontour\":[{\"type\":\"histogram2dcontour\",\"colorbar\":{\"outlinewidth\":0,\"ticks\":\"\"},\"colorscale\":[[0.0,\"#0d0887\"],[0.1111111111111111,\"#46039f\"],[0.2222222222222222,\"#7201a8\"],[0.3333333333333333,\"#9c179e\"],[0.4444444444444444,\"#bd3786\"],[0.5555555555555556,\"#d8576b\"],[0.6666666666666666,\"#ed7953\"],[0.7777777777777778,\"#fb9f3a\"],[0.8888888888888888,\"#fdca26\"],[1.0,\"#f0f921\"]]}],\"choropleth\":[{\"type\":\"choropleth\",\"colorbar\":{\"outlinewidth\":0,\"ticks\":\"\"}}],\"histogram2d\":[{\"type\":\"histogram2d\",\"colorbar\":{\"outlinewidth\":0,\"ticks\":\"\"},\"colorscale\":[[0.0,\"#0d0887\"],[0.1111111111111111,\"#46039f\"],[0.2222222222222222,\"#7201a8\"],[0.3333333333333333,\"#9c179e\"],[0.4444444444444444,\"#bd3786\"],[0.5555555555555556,\"#d8576b\"],[0.6666666666666666,\"#ed7953\"],[0.7777777777777778,\"#fb9f3a\"],[0.8888888888888888,\"#fdca26\"],[1.0,\"#f0f921\"]]}],\"heatmap\":[{\"type\":\"heatmap\",\"colorbar\":{\"outlinewidth\":0,\"ticks\":\"\"},\"colorscale\":[[0.0,\"#0d0887\"],[0.1111111111111111,\"#46039f\"],[0.2222222222222222,\"#7201a8\"],[0.3333333333333333,\"#9c179e\"],[0.4444444444444444,\"#bd3786\"],[0.5555555555555556,\"#d8576b\"],[0.6666666666666666,\"#ed7953\"],[0.7777777777777778,\"#fb9f3a\"],[0.8888888888888888,\"#fdca26\"],[1.0,\"#f0f921\"]]}],\"heatmapgl\":[{\"type\":\"heatmapgl\",\"colorbar\":{\"outlinewidth\":0,\"ticks\":\"\"},\"colorscale\":[[0.0,\"#0d0887\"],[0.1111111111111111,\"#46039f\"],[0.2222222222222222,\"#7201a8\"],[0.3333333333333333,\"#9c179e\"],[0.4444444444444444,\"#bd3786\"],[0.5555555555555556,\"#d8576b\"],[0.6666666666666666,\"#ed7953\"],[0.7777777777777778,\"#fb9f3a\"],[0.8888888888888888,\"#fdca26\"],[1.0,\"#f0f921\"]]}],\"contourcarpet\":[{\"type\":\"contourcarpet\",\"colorbar\":{\"outlinewidth\":0,\"ticks\":\"\"}}],\"contour\":[{\"type\":\"contour\",\"colorbar\":{\"outlinewidth\":0,\"ticks\":\"\"},\"colorscale\":[[0.0,\"#0d0887\"],[0.1111111111111111,\"#46039f\"],[0.2222222222222222,\"#7201a8\"],[0.3333333333333333,\"#9c179e\"],[0.4444444444444444,\"#bd3786\"],[0.5555555555555556,\"#d8576b\"],[0.6666666666666666,\"#ed7953\"],[0.7777777777777778,\"#fb9f3a\"],[0.8888888888888888,\"#fdca26\"],[1.0,\"#f0f921\"]]}],\"surface\":[{\"type\":\"surface\",\"colorbar\":{\"outlinewidth\":0,\"ticks\":\"\"},\"colorscale\":[[0.0,\"#0d0887\"],[0.1111111111111111,\"#46039f\"],[0.2222222222222222,\"#7201a8\"],[0.3333333333333333,\"#9c179e\"],[0.4444444444444444,\"#bd3786\"],[0.5555555555555556,\"#d8576b\"],[0.6666666666666666,\"#ed7953\"],[0.7777777777777778,\"#fb9f3a\"],[0.8888888888888888,\"#fdca26\"],[1.0,\"#f0f921\"]]}],\"mesh3d\":[{\"type\":\"mesh3d\",\"colorbar\":{\"outlinewidth\":0,\"ticks\":\"\"}}],\"scatter\":[{\"fillpattern\":{\"fillmode\":\"overlay\",\"size\":10,\"solidity\":0.2},\"type\":\"scatter\"}],\"parcoords\":[{\"type\":\"parcoords\",\"line\":{\"colorbar\":{\"outlinewidth\":0,\"ticks\":\"\"}}}],\"scatterpolargl\":[{\"type\":\"scatterpolargl\",\"marker\":{\"colorbar\":{\"outlinewidth\":0,\"ticks\":\"\"}}}],\"bar\":[{\"error_x\":{\"color\":\"#2a3f5f\"},\"error_y\":{\"color\":\"#2a3f5f\"},\"marker\":{\"line\":{\"color\":\"#E5ECF6\",\"width\":0.5},\"pattern\":{\"fillmode\":\"overlay\",\"size\":10,\"solidity\":0.2}},\"type\":\"bar\"}],\"scattergeo\":[{\"type\":\"scattergeo\",\"marker\":{\"colorbar\":{\"outlinewidth\":0,\"ticks\":\"\"}}}],\"scatterpolar\":[{\"type\":\"scatterpolar\",\"marker\":{\"colorbar\":{\"outlinewidth\":0,\"ticks\":\"\"}}}],\"histogram\":[{\"marker\":{\"pattern\":{\"fillmode\":\"overlay\",\"size\":10,\"solidity\":0.2}},\"type\":\"histogram\"}],\"scattergl\":[{\"type\":\"scattergl\",\"marker\":{\"colorbar\":{\"outlinewidth\":0,\"ticks\":\"\"}}}],\"scatter3d\":[{\"type\":\"scatter3d\",\"line\":{\"colorbar\":{\"outlinewidth\":0,\"ticks\":\"\"}},\"marker\":{\"colorbar\":{\"outlinewidth\":0,\"ticks\":\"\"}}}],\"scattermapbox\":[{\"type\":\"scattermapbox\",\"marker\":{\"colorbar\":{\"outlinewidth\":0,\"ticks\":\"\"}}}],\"scatterternary\":[{\"type\":\"scatterternary\",\"marker\":{\"colorbar\":{\"outlinewidth\":0,\"ticks\":\"\"}}}],\"scattercarpet\":[{\"type\":\"scattercarpet\",\"marker\":{\"colorbar\":{\"outlinewidth\":0,\"ticks\":\"\"}}}],\"carpet\":[{\"aaxis\":{\"endlinecolor\":\"#2a3f5f\",\"gridcolor\":\"white\",\"linecolor\":\"white\",\"minorgridcolor\":\"white\",\"startlinecolor\":\"#2a3f5f\"},\"baxis\":{\"endlinecolor\":\"#2a3f5f\",\"gridcolor\":\"white\",\"linecolor\":\"white\",\"minorgridcolor\":\"white\",\"startlinecolor\":\"#2a3f5f\"},\"type\":\"carpet\"}],\"table\":[{\"cells\":{\"fill\":{\"color\":\"#EBF0F8\"},\"line\":{\"color\":\"white\"}},\"header\":{\"fill\":{\"color\":\"#C8D4E3\"},\"line\":{\"color\":\"white\"}},\"type\":\"table\"}],\"barpolar\":[{\"marker\":{\"line\":{\"color\":\"#E5ECF6\",\"width\":0.5},\"pattern\":{\"fillmode\":\"overlay\",\"size\":10,\"solidity\":0.2}},\"type\":\"barpolar\"}],\"pie\":[{\"automargin\":true,\"type\":\"pie\"}]},\"layout\":{\"autotypenumbers\":\"strict\",\"colorway\":[\"#636efa\",\"#EF553B\",\"#00cc96\",\"#ab63fa\",\"#FFA15A\",\"#19d3f3\",\"#FF6692\",\"#B6E880\",\"#FF97FF\",\"#FECB52\"],\"font\":{\"color\":\"#2a3f5f\"},\"hovermode\":\"closest\",\"hoverlabel\":{\"align\":\"left\"},\"paper_bgcolor\":\"white\",\"plot_bgcolor\":\"#E5ECF6\",\"polar\":{\"bgcolor\":\"#E5ECF6\",\"angularaxis\":{\"gridcolor\":\"white\",\"linecolor\":\"white\",\"ticks\":\"\"},\"radialaxis\":{\"gridcolor\":\"white\",\"linecolor\":\"white\",\"ticks\":\"\"}},\"ternary\":{\"bgcolor\":\"#E5ECF6\",\"aaxis\":{\"gridcolor\":\"white\",\"linecolor\":\"white\",\"ticks\":\"\"},\"baxis\":{\"gridcolor\":\"white\",\"linecolor\":\"white\",\"ticks\":\"\"},\"caxis\":{\"gridcolor\":\"white\",\"linecolor\":\"white\",\"ticks\":\"\"}},\"coloraxis\":{\"colorbar\":{\"outlinewidth\":0,\"ticks\":\"\"}},\"colorscale\":{\"sequential\":[[0.0,\"#0d0887\"],[0.1111111111111111,\"#46039f\"],[0.2222222222222222,\"#7201a8\"],[0.3333333333333333,\"#9c179e\"],[0.4444444444444444,\"#bd3786\"],[0.5555555555555556,\"#d8576b\"],[0.6666666666666666,\"#ed7953\"],[0.7777777777777778,\"#fb9f3a\"],[0.8888888888888888,\"#fdca26\"],[1.0,\"#f0f921\"]],\"sequentialminus\":[[0.0,\"#0d0887\"],[0.1111111111111111,\"#46039f\"],[0.2222222222222222,\"#7201a8\"],[0.3333333333333333,\"#9c179e\"],[0.4444444444444444,\"#bd3786\"],[0.5555555555555556,\"#d8576b\"],[0.6666666666666666,\"#ed7953\"],[0.7777777777777778,\"#fb9f3a\"],[0.8888888888888888,\"#fdca26\"],[1.0,\"#f0f921\"]],\"diverging\":[[0,\"#8e0152\"],[0.1,\"#c51b7d\"],[0.2,\"#de77ae\"],[0.3,\"#f1b6da\"],[0.4,\"#fde0ef\"],[0.5,\"#f7f7f7\"],[0.6,\"#e6f5d0\"],[0.7,\"#b8e186\"],[0.8,\"#7fbc41\"],[0.9,\"#4d9221\"],[1,\"#276419\"]]},\"xaxis\":{\"gridcolor\":\"white\",\"linecolor\":\"white\",\"ticks\":\"\",\"title\":{\"standoff\":15},\"zerolinecolor\":\"white\",\"automargin\":true,\"zerolinewidth\":2},\"yaxis\":{\"gridcolor\":\"white\",\"linecolor\":\"white\",\"ticks\":\"\",\"title\":{\"standoff\":15},\"zerolinecolor\":\"white\",\"automargin\":true,\"zerolinewidth\":2},\"scene\":{\"xaxis\":{\"backgroundcolor\":\"#E5ECF6\",\"gridcolor\":\"white\",\"linecolor\":\"white\",\"showbackground\":true,\"ticks\":\"\",\"zerolinecolor\":\"white\",\"gridwidth\":2},\"yaxis\":{\"backgroundcolor\":\"#E5ECF6\",\"gridcolor\":\"white\",\"linecolor\":\"white\",\"showbackground\":true,\"ticks\":\"\",\"zerolinecolor\":\"white\",\"gridwidth\":2},\"zaxis\":{\"backgroundcolor\":\"#E5ECF6\",\"gridcolor\":\"white\",\"linecolor\":\"white\",\"showbackground\":true,\"ticks\":\"\",\"zerolinecolor\":\"white\",\"gridwidth\":2}},\"shapedefaults\":{\"line\":{\"color\":\"#2a3f5f\"}},\"annotationdefaults\":{\"arrowcolor\":\"#2a3f5f\",\"arrowhead\":0,\"arrowwidth\":1},\"geo\":{\"bgcolor\":\"white\",\"landcolor\":\"#E5ECF6\",\"subunitcolor\":\"white\",\"showland\":true,\"showlakes\":true,\"lakecolor\":\"white\"},\"title\":{\"x\":0.05},\"mapbox\":{\"style\":\"light\"}}},\"geo\":{\"projection\":{\"type\":\"albers usa\"},\"scope\":\"usa\"},\"title\":{\"text\":\"Gun Control Laws by States in USA\"},\"xaxis\":{\"title\":{\"text\":\"Gun Control Laws (Likert Scale)\"}},\"yaxis\":{\"title\":{\"text\":\"State\"}}},                        {\"responsive\": true}                    ).then(function(){\n",
       "                            \n",
       "var gd = document.getElementById('72616294-8d36-4798-9de3-7d6370c47319');\n",
       "var x = new MutationObserver(function (mutations, observer) {{\n",
       "        var display = window.getComputedStyle(gd).display;\n",
       "        if (!display || display === 'none') {{\n",
       "            console.log([gd, 'removed!']);\n",
       "            Plotly.purge(gd);\n",
       "            observer.disconnect();\n",
       "        }}\n",
       "}});\n",
       "\n",
       "// Listen for the removal of the full notebook cells\n",
       "var notebookContainer = gd.closest('#notebook-container');\n",
       "if (notebookContainer) {{\n",
       "    x.observe(notebookContainer, {childList: true});\n",
       "}}\n",
       "\n",
       "// Listen for the clearing of the current output cell\n",
       "var outputEl = gd.closest('.output');\n",
       "if (outputEl) {{\n",
       "    x.observe(outputEl, {childList: true});\n",
       "}}\n",
       "\n",
       "                        })                };                });            </script>        </div>"
      ]
     },
     "metadata": {},
     "output_type": "display_data"
    }
   ],
   "source": [
    "import pandas as pd\n",
    "import plotly.graph_objects as go\n",
    "\n",
    "# Define Likert scale categories based on gun laws ratings of each state\n",
    "likert_scale = {\n",
    "    1: 'Most Lax',\n",
    "    2: 'Lax',\n",
    "    3: 'Neutral',\n",
    "    4: 'Strict',\n",
    "    5: 'Most Strict'\n",
    "}\n",
    "\n",
    "# Convert 'rate' column to numeric, replacing any non-numeric values with NaN\n",
    "final_df['rate'] = pd.to_numeric(final_df['rate'], errors='coerce')\n",
    "\n",
    "# Plotting choropleth interactive heat map to visualize the relationship between gun control laws and gun violence deaths\n",
    "fig = go.Figure(data=go.Choropleth(\n",
    "    locations=final_df['state'],  # States\n",
    "    z=final_df['gun_laws'],  # Values to be color-coded based on gun laws\n",
    "    locationmode='USA-states',  # Set plot type to US states\n",
    "    colorscale='pinkyl',  # valid colorscale name\n",
    "    colorbar=dict(\n",
    "        title='Gun Law Rank',\n",
    "        tickvals=list(likert_scale.keys()),\n",
    "        ticktext=list(likert_scale.values()),\n",
    "        len=0.75\n",
    "    ),  # Colorbar configuration\n",
    "    text=final_df['gun_laws'].map(likert_scale),  # Hover text based on Likert scale\n",
    "))\n",
    "\n",
    "# Update layout of Choropleth Interactive Heat Map: Gun Control Laws by State\n",
    "fig.update_layout(\n",
    "    title='Gun Control Laws by States in USA',\n",
    "    geo=dict(scope='usa',  # Set map scope to USA\n",
    "             projection_type='albers usa'),  # Albers USA projection\n",
    "    xaxis_title='Gun Control Laws (Likert Scale)',\n",
    "    yaxis_title='State'\n",
    ")\n",
    "\n",
    "# Show plot\n",
    "fig.show()"
   ]
  },
  {
   "cell_type": "markdown",
   "id": "6d5cb896-c306-407e-8429-531629c4f8f0",
   "metadata": {},
   "source": [
    "### Choropleth Heat Maps depicting Gun Violence Deaths (Mortality Rate) & Gun Control Laws (Rank)"
   ]
  },
  {
   "cell_type": "code",
   "execution_count": 136,
   "id": "85ceddb3-b113-4719-9095-66bae1cab099",
   "metadata": {},
   "outputs": [
    {
     "data": {
      "application/vnd.plotly.v1+json": {
       "config": {
        "plotlyServerURL": "https://plot.ly"
       },
       "data": [
        {
         "colorbar": {
          "title": {
           "text": "Gun Violence Rate (Mortality Rate)"
          }
         },
         "colorscale": [
          [
           0,
           "rgb(252, 222, 156)"
          ],
          [
           0.16666666666666666,
           "rgb(250, 164, 118)"
          ],
          [
           0.3333333333333333,
           "rgb(240, 116, 110)"
          ],
          [
           0.5,
           "rgb(227, 79, 111)"
          ],
          [
           0.6666666666666666,
           "rgb(220, 57, 119)"
          ],
          [
           0.8333333333333334,
           "rgb(185, 37, 122)"
          ],
          [
           1,
           "rgb(124, 29, 111)"
          ]
         ],
         "locationmode": "USA-states",
         "locations": [
          "AK",
          "AL",
          "AR",
          "AZ",
          "CA",
          "CO",
          "CT",
          "DC",
          "DE",
          "FL",
          "GA",
          "HI",
          "IA",
          "ID",
          "IL",
          "IN",
          "KS",
          "KY",
          "LA",
          "MA",
          "MD",
          "ME",
          "MI",
          "MN",
          "MO",
          "MS",
          "MT",
          "NC",
          "ND",
          "NE",
          "NH",
          "NJ",
          "NM",
          "NV",
          "NY",
          "OH",
          "OK",
          "OR",
          "PA",
          "RI",
          "SC",
          "SD",
          "TN",
          "TX",
          "UT",
          "VA",
          "VT",
          "WA",
          "WI",
          "WV",
          "WY"
         ],
         "type": "choropleth",
         "z": [
          21.5,
          26.1,
          22.9,
          20.7,
          8.9,
          17.8,
          6.6,
          25.3,
          12.6,
          14.8,
          19.5,
          4.4,
          12.3,
          17.7,
          14.3,
          18.2,
          16,
          18.2,
          27.4,
          3.8,
          12.8,
          12.7,
          14.5,
          9.6,
          23.5,
          28.3,
          23.4,
          16.8,
          14,
          11.4,
          11.6,
          5,
          26.9,
          19.4,
          5,
          15.6,
          19.4,
          15.3,
          14.6,
          3.7,
          21.8,
          14.6,
          21.4,
          15,
          14.1,
          14.9,
          13.1,
          13.2,
          13.8,
          18.6,
          20.4
         ]
        }
       ],
       "layout": {
        "annotations": [
         {
          "font": {
           "color": "black",
           "size": 12
          },
          "showarrow": false,
          "text": "Safest",
          "x": 1.2,
          "xref": "paper",
          "y": -0.01,
          "yref": "paper"
         },
         {
          "font": {
           "color": "black",
           "size": 12
          },
          "showarrow": false,
          "text": "Safe",
          "x": 1.2,
          "xref": "paper",
          "y": 0.2225581395348837,
          "yref": "paper"
         },
         {
          "font": {
           "color": "black",
           "size": 12
          },
          "showarrow": false,
          "text": "Moderate",
          "x": 1.2,
          "xref": "paper",
          "y": 0.4551162790697674,
          "yref": "paper"
         },
         {
          "font": {
           "color": "black",
           "size": 12
          },
          "showarrow": false,
          "text": "Very Dangerous",
          "x": 1.2,
          "xref": "paper",
          "y": 0.6876744186046512,
          "yref": "paper"
         },
         {
          "font": {
           "color": "black",
           "size": 12
          },
          "showarrow": false,
          "text": "Deadliest",
          "x": 1.2,
          "xref": "paper",
          "y": 0.9202325581395349,
          "yref": "paper"
         }
        ],
        "autosize": true,
        "geo": {
         "projection": {
          "type": "albers usa"
         },
         "scope": "usa"
        },
        "template": {
         "data": {
          "bar": [
           {
            "error_x": {
             "color": "#2a3f5f"
            },
            "error_y": {
             "color": "#2a3f5f"
            },
            "marker": {
             "line": {
              "color": "#E5ECF6",
              "width": 0.5
             },
             "pattern": {
              "fillmode": "overlay",
              "size": 10,
              "solidity": 0.2
             }
            },
            "type": "bar"
           }
          ],
          "barpolar": [
           {
            "marker": {
             "line": {
              "color": "#E5ECF6",
              "width": 0.5
             },
             "pattern": {
              "fillmode": "overlay",
              "size": 10,
              "solidity": 0.2
             }
            },
            "type": "barpolar"
           }
          ],
          "carpet": [
           {
            "aaxis": {
             "endlinecolor": "#2a3f5f",
             "gridcolor": "white",
             "linecolor": "white",
             "minorgridcolor": "white",
             "startlinecolor": "#2a3f5f"
            },
            "baxis": {
             "endlinecolor": "#2a3f5f",
             "gridcolor": "white",
             "linecolor": "white",
             "minorgridcolor": "white",
             "startlinecolor": "#2a3f5f"
            },
            "type": "carpet"
           }
          ],
          "choropleth": [
           {
            "colorbar": {
             "outlinewidth": 0,
             "ticks": ""
            },
            "type": "choropleth"
           }
          ],
          "contour": [
           {
            "colorbar": {
             "outlinewidth": 0,
             "ticks": ""
            },
            "colorscale": [
             [
              0,
              "#0d0887"
             ],
             [
              0.1111111111111111,
              "#46039f"
             ],
             [
              0.2222222222222222,
              "#7201a8"
             ],
             [
              0.3333333333333333,
              "#9c179e"
             ],
             [
              0.4444444444444444,
              "#bd3786"
             ],
             [
              0.5555555555555556,
              "#d8576b"
             ],
             [
              0.6666666666666666,
              "#ed7953"
             ],
             [
              0.7777777777777778,
              "#fb9f3a"
             ],
             [
              0.8888888888888888,
              "#fdca26"
             ],
             [
              1,
              "#f0f921"
             ]
            ],
            "type": "contour"
           }
          ],
          "contourcarpet": [
           {
            "colorbar": {
             "outlinewidth": 0,
             "ticks": ""
            },
            "type": "contourcarpet"
           }
          ],
          "heatmap": [
           {
            "colorbar": {
             "outlinewidth": 0,
             "ticks": ""
            },
            "colorscale": [
             [
              0,
              "#0d0887"
             ],
             [
              0.1111111111111111,
              "#46039f"
             ],
             [
              0.2222222222222222,
              "#7201a8"
             ],
             [
              0.3333333333333333,
              "#9c179e"
             ],
             [
              0.4444444444444444,
              "#bd3786"
             ],
             [
              0.5555555555555556,
              "#d8576b"
             ],
             [
              0.6666666666666666,
              "#ed7953"
             ],
             [
              0.7777777777777778,
              "#fb9f3a"
             ],
             [
              0.8888888888888888,
              "#fdca26"
             ],
             [
              1,
              "#f0f921"
             ]
            ],
            "type": "heatmap"
           }
          ],
          "heatmapgl": [
           {
            "colorbar": {
             "outlinewidth": 0,
             "ticks": ""
            },
            "colorscale": [
             [
              0,
              "#0d0887"
             ],
             [
              0.1111111111111111,
              "#46039f"
             ],
             [
              0.2222222222222222,
              "#7201a8"
             ],
             [
              0.3333333333333333,
              "#9c179e"
             ],
             [
              0.4444444444444444,
              "#bd3786"
             ],
             [
              0.5555555555555556,
              "#d8576b"
             ],
             [
              0.6666666666666666,
              "#ed7953"
             ],
             [
              0.7777777777777778,
              "#fb9f3a"
             ],
             [
              0.8888888888888888,
              "#fdca26"
             ],
             [
              1,
              "#f0f921"
             ]
            ],
            "type": "heatmapgl"
           }
          ],
          "histogram": [
           {
            "marker": {
             "pattern": {
              "fillmode": "overlay",
              "size": 10,
              "solidity": 0.2
             }
            },
            "type": "histogram"
           }
          ],
          "histogram2d": [
           {
            "colorbar": {
             "outlinewidth": 0,
             "ticks": ""
            },
            "colorscale": [
             [
              0,
              "#0d0887"
             ],
             [
              0.1111111111111111,
              "#46039f"
             ],
             [
              0.2222222222222222,
              "#7201a8"
             ],
             [
              0.3333333333333333,
              "#9c179e"
             ],
             [
              0.4444444444444444,
              "#bd3786"
             ],
             [
              0.5555555555555556,
              "#d8576b"
             ],
             [
              0.6666666666666666,
              "#ed7953"
             ],
             [
              0.7777777777777778,
              "#fb9f3a"
             ],
             [
              0.8888888888888888,
              "#fdca26"
             ],
             [
              1,
              "#f0f921"
             ]
            ],
            "type": "histogram2d"
           }
          ],
          "histogram2dcontour": [
           {
            "colorbar": {
             "outlinewidth": 0,
             "ticks": ""
            },
            "colorscale": [
             [
              0,
              "#0d0887"
             ],
             [
              0.1111111111111111,
              "#46039f"
             ],
             [
              0.2222222222222222,
              "#7201a8"
             ],
             [
              0.3333333333333333,
              "#9c179e"
             ],
             [
              0.4444444444444444,
              "#bd3786"
             ],
             [
              0.5555555555555556,
              "#d8576b"
             ],
             [
              0.6666666666666666,
              "#ed7953"
             ],
             [
              0.7777777777777778,
              "#fb9f3a"
             ],
             [
              0.8888888888888888,
              "#fdca26"
             ],
             [
              1,
              "#f0f921"
             ]
            ],
            "type": "histogram2dcontour"
           }
          ],
          "mesh3d": [
           {
            "colorbar": {
             "outlinewidth": 0,
             "ticks": ""
            },
            "type": "mesh3d"
           }
          ],
          "parcoords": [
           {
            "line": {
             "colorbar": {
              "outlinewidth": 0,
              "ticks": ""
             }
            },
            "type": "parcoords"
           }
          ],
          "pie": [
           {
            "automargin": true,
            "type": "pie"
           }
          ],
          "scatter": [
           {
            "fillpattern": {
             "fillmode": "overlay",
             "size": 10,
             "solidity": 0.2
            },
            "type": "scatter"
           }
          ],
          "scatter3d": [
           {
            "line": {
             "colorbar": {
              "outlinewidth": 0,
              "ticks": ""
             }
            },
            "marker": {
             "colorbar": {
              "outlinewidth": 0,
              "ticks": ""
             }
            },
            "type": "scatter3d"
           }
          ],
          "scattercarpet": [
           {
            "marker": {
             "colorbar": {
              "outlinewidth": 0,
              "ticks": ""
             }
            },
            "type": "scattercarpet"
           }
          ],
          "scattergeo": [
           {
            "marker": {
             "colorbar": {
              "outlinewidth": 0,
              "ticks": ""
             }
            },
            "type": "scattergeo"
           }
          ],
          "scattergl": [
           {
            "marker": {
             "colorbar": {
              "outlinewidth": 0,
              "ticks": ""
             }
            },
            "type": "scattergl"
           }
          ],
          "scattermapbox": [
           {
            "marker": {
             "colorbar": {
              "outlinewidth": 0,
              "ticks": ""
             }
            },
            "type": "scattermapbox"
           }
          ],
          "scatterpolar": [
           {
            "marker": {
             "colorbar": {
              "outlinewidth": 0,
              "ticks": ""
             }
            },
            "type": "scatterpolar"
           }
          ],
          "scatterpolargl": [
           {
            "marker": {
             "colorbar": {
              "outlinewidth": 0,
              "ticks": ""
             }
            },
            "type": "scatterpolargl"
           }
          ],
          "scatterternary": [
           {
            "marker": {
             "colorbar": {
              "outlinewidth": 0,
              "ticks": ""
             }
            },
            "type": "scatterternary"
           }
          ],
          "surface": [
           {
            "colorbar": {
             "outlinewidth": 0,
             "ticks": ""
            },
            "colorscale": [
             [
              0,
              "#0d0887"
             ],
             [
              0.1111111111111111,
              "#46039f"
             ],
             [
              0.2222222222222222,
              "#7201a8"
             ],
             [
              0.3333333333333333,
              "#9c179e"
             ],
             [
              0.4444444444444444,
              "#bd3786"
             ],
             [
              0.5555555555555556,
              "#d8576b"
             ],
             [
              0.6666666666666666,
              "#ed7953"
             ],
             [
              0.7777777777777778,
              "#fb9f3a"
             ],
             [
              0.8888888888888888,
              "#fdca26"
             ],
             [
              1,
              "#f0f921"
             ]
            ],
            "type": "surface"
           }
          ],
          "table": [
           {
            "cells": {
             "fill": {
              "color": "#EBF0F8"
             },
             "line": {
              "color": "white"
             }
            },
            "header": {
             "fill": {
              "color": "#C8D4E3"
             },
             "line": {
              "color": "white"
             }
            },
            "type": "table"
           }
          ]
         },
         "layout": {
          "annotationdefaults": {
           "arrowcolor": "#2a3f5f",
           "arrowhead": 0,
           "arrowwidth": 1
          },
          "autotypenumbers": "strict",
          "coloraxis": {
           "colorbar": {
            "outlinewidth": 0,
            "ticks": ""
           }
          },
          "colorscale": {
           "diverging": [
            [
             0,
             "#8e0152"
            ],
            [
             0.1,
             "#c51b7d"
            ],
            [
             0.2,
             "#de77ae"
            ],
            [
             0.3,
             "#f1b6da"
            ],
            [
             0.4,
             "#fde0ef"
            ],
            [
             0.5,
             "#f7f7f7"
            ],
            [
             0.6,
             "#e6f5d0"
            ],
            [
             0.7,
             "#b8e186"
            ],
            [
             0.8,
             "#7fbc41"
            ],
            [
             0.9,
             "#4d9221"
            ],
            [
             1,
             "#276419"
            ]
           ],
           "sequential": [
            [
             0,
             "#0d0887"
            ],
            [
             0.1111111111111111,
             "#46039f"
            ],
            [
             0.2222222222222222,
             "#7201a8"
            ],
            [
             0.3333333333333333,
             "#9c179e"
            ],
            [
             0.4444444444444444,
             "#bd3786"
            ],
            [
             0.5555555555555556,
             "#d8576b"
            ],
            [
             0.6666666666666666,
             "#ed7953"
            ],
            [
             0.7777777777777778,
             "#fb9f3a"
            ],
            [
             0.8888888888888888,
             "#fdca26"
            ],
            [
             1,
             "#f0f921"
            ]
           ],
           "sequentialminus": [
            [
             0,
             "#0d0887"
            ],
            [
             0.1111111111111111,
             "#46039f"
            ],
            [
             0.2222222222222222,
             "#7201a8"
            ],
            [
             0.3333333333333333,
             "#9c179e"
            ],
            [
             0.4444444444444444,
             "#bd3786"
            ],
            [
             0.5555555555555556,
             "#d8576b"
            ],
            [
             0.6666666666666666,
             "#ed7953"
            ],
            [
             0.7777777777777778,
             "#fb9f3a"
            ],
            [
             0.8888888888888888,
             "#fdca26"
            ],
            [
             1,
             "#f0f921"
            ]
           ]
          },
          "colorway": [
           "#636efa",
           "#EF553B",
           "#00cc96",
           "#ab63fa",
           "#FFA15A",
           "#19d3f3",
           "#FF6692",
           "#B6E880",
           "#FF97FF",
           "#FECB52"
          ],
          "font": {
           "color": "#2a3f5f"
          },
          "geo": {
           "bgcolor": "white",
           "lakecolor": "white",
           "landcolor": "#E5ECF6",
           "showlakes": true,
           "showland": true,
           "subunitcolor": "white"
          },
          "hoverlabel": {
           "align": "left"
          },
          "hovermode": "closest",
          "mapbox": {
           "style": "light"
          },
          "paper_bgcolor": "white",
          "plot_bgcolor": "#E5ECF6",
          "polar": {
           "angularaxis": {
            "gridcolor": "white",
            "linecolor": "white",
            "ticks": ""
           },
           "bgcolor": "#E5ECF6",
           "radialaxis": {
            "gridcolor": "white",
            "linecolor": "white",
            "ticks": ""
           }
          },
          "scene": {
           "xaxis": {
            "backgroundcolor": "#E5ECF6",
            "gridcolor": "white",
            "gridwidth": 2,
            "linecolor": "white",
            "showbackground": true,
            "ticks": "",
            "zerolinecolor": "white"
           },
           "yaxis": {
            "backgroundcolor": "#E5ECF6",
            "gridcolor": "white",
            "gridwidth": 2,
            "linecolor": "white",
            "showbackground": true,
            "ticks": "",
            "zerolinecolor": "white"
           },
           "zaxis": {
            "backgroundcolor": "#E5ECF6",
            "gridcolor": "white",
            "gridwidth": 2,
            "linecolor": "white",
            "showbackground": true,
            "ticks": "",
            "zerolinecolor": "white"
           }
          },
          "shapedefaults": {
           "line": {
            "color": "#2a3f5f"
           }
          },
          "ternary": {
           "aaxis": {
            "gridcolor": "white",
            "linecolor": "white",
            "ticks": ""
           },
           "baxis": {
            "gridcolor": "white",
            "linecolor": "white",
            "ticks": ""
           },
           "bgcolor": "#E5ECF6",
           "caxis": {
            "gridcolor": "white",
            "linecolor": "white",
            "ticks": ""
           }
          },
          "title": {
           "x": 0.05
          },
          "xaxis": {
           "automargin": true,
           "gridcolor": "white",
           "linecolor": "white",
           "ticks": "",
           "title": {
            "standoff": 15
           },
           "zerolinecolor": "white",
           "zerolinewidth": 2
          },
          "yaxis": {
           "automargin": true,
           "gridcolor": "white",
           "linecolor": "white",
           "ticks": "",
           "title": {
            "standoff": 15
           },
           "zerolinecolor": "white",
           "zerolinewidth": 2
          }
         }
        },
        "title": {
         "text": "Gun Violence Deaths by States in USA"
        },
        "xaxis": {
         "title": {
          "text": "Gun Control Laws (Likert Scale)"
         }
        },
        "yaxis": {
         "title": {
          "text": "State"
         }
        }
       }
      },
      "image/png": "[encoded data removed]",
      "text/html": [
       "<div>                            <div id=\"58ec356c-46e1-4fb3-be23-091d65961156\" class=\"plotly-graph-div\" style=\"height:525px; width:100%;\"></div>            <script type=\"text/javascript\">                require([\"plotly\"], function(Plotly) {                    window.PLOTLYENV=window.PLOTLYENV || {};                                    if (document.getElementById(\"58ec356c-46e1-4fb3-be23-091d65961156\")) {                    Plotly.newPlot(                        \"58ec356c-46e1-4fb3-be23-091d65961156\",                        [{\"colorbar\":{\"title\":{\"text\":\"Gun Violence Rate (Mortality Rate)\"}},\"colorscale\":[[0.0,\"rgb(252, 222, 156)\"],[0.16666666666666666,\"rgb(250, 164, 118)\"],[0.3333333333333333,\"rgb(240, 116, 110)\"],[0.5,\"rgb(227, 79, 111)\"],[0.6666666666666666,\"rgb(220, 57, 119)\"],[0.8333333333333334,\"rgb(185, 37, 122)\"],[1.0,\"rgb(124, 29, 111)\"]],\"locationmode\":\"USA-states\",\"locations\":[\"AK\",\"AL\",\"AR\",\"AZ\",\"CA\",\"CO\",\"CT\",\"DC\",\"DE\",\"FL\",\"GA\",\"HI\",\"IA\",\"ID\",\"IL\",\"IN\",\"KS\",\"KY\",\"LA\",\"MA\",\"MD\",\"ME\",\"MI\",\"MN\",\"MO\",\"MS\",\"MT\",\"NC\",\"ND\",\"NE\",\"NH\",\"NJ\",\"NM\",\"NV\",\"NY\",\"OH\",\"OK\",\"OR\",\"PA\",\"RI\",\"SC\",\"SD\",\"TN\",\"TX\",\"UT\",\"VA\",\"VT\",\"WA\",\"WI\",\"WV\",\"WY\"],\"z\":[21.5,26.1,22.9,20.7,8.9,17.8,6.6,25.3,12.6,14.8,19.5,4.4,12.3,17.7,14.3,18.2,16.0,18.2,27.4,3.8,12.8,12.7,14.5,9.6,23.5,28.3,23.4,16.8,14.0,11.4,11.6,5.0,26.9,19.4,5.0,15.6,19.4,15.3,14.6,3.7,21.8,14.6,21.4,15.0,14.1,14.9,13.1,13.2,13.8,18.6,20.4],\"type\":\"choropleth\"}],                        {\"template\":{\"data\":{\"histogram2dcontour\":[{\"type\":\"histogram2dcontour\",\"colorbar\":{\"outlinewidth\":0,\"ticks\":\"\"},\"colorscale\":[[0.0,\"#0d0887\"],[0.1111111111111111,\"#46039f\"],[0.2222222222222222,\"#7201a8\"],[0.3333333333333333,\"#9c179e\"],[0.4444444444444444,\"#bd3786\"],[0.5555555555555556,\"#d8576b\"],[0.6666666666666666,\"#ed7953\"],[0.7777777777777778,\"#fb9f3a\"],[0.8888888888888888,\"#fdca26\"],[1.0,\"#f0f921\"]]}],\"choropleth\":[{\"type\":\"choropleth\",\"colorbar\":{\"outlinewidth\":0,\"ticks\":\"\"}}],\"histogram2d\":[{\"type\":\"histogram2d\",\"colorbar\":{\"outlinewidth\":0,\"ticks\":\"\"},\"colorscale\":[[0.0,\"#0d0887\"],[0.1111111111111111,\"#46039f\"],[0.2222222222222222,\"#7201a8\"],[0.3333333333333333,\"#9c179e\"],[0.4444444444444444,\"#bd3786\"],[0.5555555555555556,\"#d8576b\"],[0.6666666666666666,\"#ed7953\"],[0.7777777777777778,\"#fb9f3a\"],[0.8888888888888888,\"#fdca26\"],[1.0,\"#f0f921\"]]}],\"heatmap\":[{\"type\":\"heatmap\",\"colorbar\":{\"outlinewidth\":0,\"ticks\":\"\"},\"colorscale\":[[0.0,\"#0d0887\"],[0.1111111111111111,\"#46039f\"],[0.2222222222222222,\"#7201a8\"],[0.3333333333333333,\"#9c179e\"],[0.4444444444444444,\"#bd3786\"],[0.5555555555555556,\"#d8576b\"],[0.6666666666666666,\"#ed7953\"],[0.7777777777777778,\"#fb9f3a\"],[0.8888888888888888,\"#fdca26\"],[1.0,\"#f0f921\"]]}],\"heatmapgl\":[{\"type\":\"heatmapgl\",\"colorbar\":{\"outlinewidth\":0,\"ticks\":\"\"},\"colorscale\":[[0.0,\"#0d0887\"],[0.1111111111111111,\"#46039f\"],[0.2222222222222222,\"#7201a8\"],[0.3333333333333333,\"#9c179e\"],[0.4444444444444444,\"#bd3786\"],[0.5555555555555556,\"#d8576b\"],[0.6666666666666666,\"#ed7953\"],[0.7777777777777778,\"#fb9f3a\"],[0.8888888888888888,\"#fdca26\"],[1.0,\"#f0f921\"]]}],\"contourcarpet\":[{\"type\":\"contourcarpet\",\"colorbar\":{\"outlinewidth\":0,\"ticks\":\"\"}}],\"contour\":[{\"type\":\"contour\",\"colorbar\":{\"outlinewidth\":0,\"ticks\":\"\"},\"colorscale\":[[0.0,\"#0d0887\"],[0.1111111111111111,\"#46039f\"],[0.2222222222222222,\"#7201a8\"],[0.3333333333333333,\"#9c179e\"],[0.4444444444444444,\"#bd3786\"],[0.5555555555555556,\"#d8576b\"],[0.6666666666666666,\"#ed7953\"],[0.7777777777777778,\"#fb9f3a\"],[0.8888888888888888,\"#fdca26\"],[1.0,\"#f0f921\"]]}],\"surface\":[{\"type\":\"surface\",\"colorbar\":{\"outlinewidth\":0,\"ticks\":\"\"},\"colorscale\":[[0.0,\"#0d0887\"],[0.1111111111111111,\"#46039f\"],[0.2222222222222222,\"#7201a8\"],[0.3333333333333333,\"#9c179e\"],[0.4444444444444444,\"#bd3786\"],[0.5555555555555556,\"#d8576b\"],[0.6666666666666666,\"#ed7953\"],[0.7777777777777778,\"#fb9f3a\"],[0.8888888888888888,\"#fdca26\"],[1.0,\"#f0f921\"]]}],\"mesh3d\":[{\"type\":\"mesh3d\",\"colorbar\":{\"outlinewidth\":0,\"ticks\":\"\"}}],\"scatter\":[{\"fillpattern\":{\"fillmode\":\"overlay\",\"size\":10,\"solidity\":0.2},\"type\":\"scatter\"}],\"parcoords\":[{\"type\":\"parcoords\",\"line\":{\"colorbar\":{\"outlinewidth\":0,\"ticks\":\"\"}}}],\"scatterpolargl\":[{\"type\":\"scatterpolargl\",\"marker\":{\"colorbar\":{\"outlinewidth\":0,\"ticks\":\"\"}}}],\"bar\":[{\"error_x\":{\"color\":\"#2a3f5f\"},\"error_y\":{\"color\":\"#2a3f5f\"},\"marker\":{\"line\":{\"color\":\"#E5ECF6\",\"width\":0.5},\"pattern\":{\"fillmode\":\"overlay\",\"size\":10,\"solidity\":0.2}},\"type\":\"bar\"}],\"scattergeo\":[{\"type\":\"scattergeo\",\"marker\":{\"colorbar\":{\"outlinewidth\":0,\"ticks\":\"\"}}}],\"scatterpolar\":[{\"type\":\"scatterpolar\",\"marker\":{\"colorbar\":{\"outlinewidth\":0,\"ticks\":\"\"}}}],\"histogram\":[{\"marker\":{\"pattern\":{\"fillmode\":\"overlay\",\"size\":10,\"solidity\":0.2}},\"type\":\"histogram\"}],\"scattergl\":[{\"type\":\"scattergl\",\"marker\":{\"colorbar\":{\"outlinewidth\":0,\"ticks\":\"\"}}}],\"scatter3d\":[{\"type\":\"scatter3d\",\"line\":{\"colorbar\":{\"outlinewidth\":0,\"ticks\":\"\"}},\"marker\":{\"colorbar\":{\"outlinewidth\":0,\"ticks\":\"\"}}}],\"scattermapbox\":[{\"type\":\"scattermapbox\",\"marker\":{\"colorbar\":{\"outlinewidth\":0,\"ticks\":\"\"}}}],\"scatterternary\":[{\"type\":\"scatterternary\",\"marker\":{\"colorbar\":{\"outlinewidth\":0,\"ticks\":\"\"}}}],\"scattercarpet\":[{\"type\":\"scattercarpet\",\"marker\":{\"colorbar\":{\"outlinewidth\":0,\"ticks\":\"\"}}}],\"carpet\":[{\"aaxis\":{\"endlinecolor\":\"#2a3f5f\",\"gridcolor\":\"white\",\"linecolor\":\"white\",\"minorgridcolor\":\"white\",\"startlinecolor\":\"#2a3f5f\"},\"baxis\":{\"endlinecolor\":\"#2a3f5f\",\"gridcolor\":\"white\",\"linecolor\":\"white\",\"minorgridcolor\":\"white\",\"startlinecolor\":\"#2a3f5f\"},\"type\":\"carpet\"}],\"table\":[{\"cells\":{\"fill\":{\"color\":\"#EBF0F8\"},\"line\":{\"color\":\"white\"}},\"header\":{\"fill\":{\"color\":\"#C8D4E3\"},\"line\":{\"color\":\"white\"}},\"type\":\"table\"}],\"barpolar\":[{\"marker\":{\"line\":{\"color\":\"#E5ECF6\",\"width\":0.5},\"pattern\":{\"fillmode\":\"overlay\",\"size\":10,\"solidity\":0.2}},\"type\":\"barpolar\"}],\"pie\":[{\"automargin\":true,\"type\":\"pie\"}]},\"layout\":{\"autotypenumbers\":\"strict\",\"colorway\":[\"#636efa\",\"#EF553B\",\"#00cc96\",\"#ab63fa\",\"#FFA15A\",\"#19d3f3\",\"#FF6692\",\"#B6E880\",\"#FF97FF\",\"#FECB52\"],\"font\":{\"color\":\"#2a3f5f\"},\"hovermode\":\"closest\",\"hoverlabel\":{\"align\":\"left\"},\"paper_bgcolor\":\"white\",\"plot_bgcolor\":\"#E5ECF6\",\"polar\":{\"bgcolor\":\"#E5ECF6\",\"angularaxis\":{\"gridcolor\":\"white\",\"linecolor\":\"white\",\"ticks\":\"\"},\"radialaxis\":{\"gridcolor\":\"white\",\"linecolor\":\"white\",\"ticks\":\"\"}},\"ternary\":{\"bgcolor\":\"#E5ECF6\",\"aaxis\":{\"gridcolor\":\"white\",\"linecolor\":\"white\",\"ticks\":\"\"},\"baxis\":{\"gridcolor\":\"white\",\"linecolor\":\"white\",\"ticks\":\"\"},\"caxis\":{\"gridcolor\":\"white\",\"linecolor\":\"white\",\"ticks\":\"\"}},\"coloraxis\":{\"colorbar\":{\"outlinewidth\":0,\"ticks\":\"\"}},\"colorscale\":{\"sequential\":[[0.0,\"#0d0887\"],[0.1111111111111111,\"#46039f\"],[0.2222222222222222,\"#7201a8\"],[0.3333333333333333,\"#9c179e\"],[0.4444444444444444,\"#bd3786\"],[0.5555555555555556,\"#d8576b\"],[0.6666666666666666,\"#ed7953\"],[0.7777777777777778,\"#fb9f3a\"],[0.8888888888888888,\"#fdca26\"],[1.0,\"#f0f921\"]],\"sequentialminus\":[[0.0,\"#0d0887\"],[0.1111111111111111,\"#46039f\"],[0.2222222222222222,\"#7201a8\"],[0.3333333333333333,\"#9c179e\"],[0.4444444444444444,\"#bd3786\"],[0.5555555555555556,\"#d8576b\"],[0.6666666666666666,\"#ed7953\"],[0.7777777777777778,\"#fb9f3a\"],[0.8888888888888888,\"#fdca26\"],[1.0,\"#f0f921\"]],\"diverging\":[[0,\"#8e0152\"],[0.1,\"#c51b7d\"],[0.2,\"#de77ae\"],[0.3,\"#f1b6da\"],[0.4,\"#fde0ef\"],[0.5,\"#f7f7f7\"],[0.6,\"#e6f5d0\"],[0.7,\"#b8e186\"],[0.8,\"#7fbc41\"],[0.9,\"#4d9221\"],[1,\"#276419\"]]},\"xaxis\":{\"gridcolor\":\"white\",\"linecolor\":\"white\",\"ticks\":\"\",\"title\":{\"standoff\":15},\"zerolinecolor\":\"white\",\"automargin\":true,\"zerolinewidth\":2},\"yaxis\":{\"gridcolor\":\"white\",\"linecolor\":\"white\",\"ticks\":\"\",\"title\":{\"standoff\":15},\"zerolinecolor\":\"white\",\"automargin\":true,\"zerolinewidth\":2},\"scene\":{\"xaxis\":{\"backgroundcolor\":\"#E5ECF6\",\"gridcolor\":\"white\",\"linecolor\":\"white\",\"showbackground\":true,\"ticks\":\"\",\"zerolinecolor\":\"white\",\"gridwidth\":2},\"yaxis\":{\"backgroundcolor\":\"#E5ECF6\",\"gridcolor\":\"white\",\"linecolor\":\"white\",\"showbackground\":true,\"ticks\":\"\",\"zerolinecolor\":\"white\",\"gridwidth\":2},\"zaxis\":{\"backgroundcolor\":\"#E5ECF6\",\"gridcolor\":\"white\",\"linecolor\":\"white\",\"showbackground\":true,\"ticks\":\"\",\"zerolinecolor\":\"white\",\"gridwidth\":2}},\"shapedefaults\":{\"line\":{\"color\":\"#2a3f5f\"}},\"annotationdefaults\":{\"arrowcolor\":\"#2a3f5f\",\"arrowhead\":0,\"arrowwidth\":1},\"geo\":{\"bgcolor\":\"white\",\"landcolor\":\"#E5ECF6\",\"subunitcolor\":\"white\",\"showland\":true,\"showlakes\":true,\"lakecolor\":\"white\"},\"title\":{\"x\":0.05},\"mapbox\":{\"style\":\"light\"}}},\"geo\":{\"projection\":{\"type\":\"albers usa\"},\"scope\":\"usa\"},\"title\":{\"text\":\"Gun Violence Deaths by States in USA\"},\"xaxis\":{\"title\":{\"text\":\"Gun Control Laws (Likert Scale)\"}},\"yaxis\":{\"title\":{\"text\":\"State\"}},\"annotations\":[{\"font\":{\"color\":\"black\",\"size\":12},\"showarrow\":false,\"text\":\"Safest\",\"x\":1.2,\"xref\":\"paper\",\"y\":-0.01,\"yref\":\"paper\"},{\"font\":{\"color\":\"black\",\"size\":12},\"showarrow\":false,\"text\":\"Safe\",\"x\":1.2,\"xref\":\"paper\",\"y\":0.2225581395348837,\"yref\":\"paper\"},{\"font\":{\"color\":\"black\",\"size\":12},\"showarrow\":false,\"text\":\"Moderate\",\"x\":1.2,\"xref\":\"paper\",\"y\":0.4551162790697674,\"yref\":\"paper\"},{\"font\":{\"color\":\"black\",\"size\":12},\"showarrow\":false,\"text\":\"Very Dangerous\",\"x\":1.2,\"xref\":\"paper\",\"y\":0.6876744186046512,\"yref\":\"paper\"},{\"font\":{\"color\":\"black\",\"size\":12},\"showarrow\":false,\"text\":\"Deadliest\",\"x\":1.2,\"xref\":\"paper\",\"y\":0.9202325581395349,\"yref\":\"paper\"}]},                        {\"responsive\": true}                    ).then(function(){\n",
       "                            \n",
       "var gd = document.getElementById('58ec356c-46e1-4fb3-be23-091d65961156');\n",
       "var x = new MutationObserver(function (mutations, observer) {{\n",
       "        var display = window.getComputedStyle(gd).display;\n",
       "        if (!display || display === 'none') {{\n",
       "            console.log([gd, 'removed!']);\n",
       "            Plotly.purge(gd);\n",
       "            observer.disconnect();\n",
       "        }}\n",
       "}});\n",
       "\n",
       "// Listen for the removal of the full notebook cells\n",
       "var notebookContainer = gd.closest('#notebook-container');\n",
       "if (notebookContainer) {{\n",
       "    x.observe(notebookContainer, {childList: true});\n",
       "}}\n",
       "\n",
       "// Listen for the clearing of the current output cell\n",
       "var outputEl = gd.closest('.output');\n",
       "if (outputEl) {{\n",
       "    x.observe(outputEl, {childList: true});\n",
       "}}\n",
       "\n",
       "                        })                };                });            </script>        </div>"
      ]
     },
     "metadata": {},
     "output_type": "display_data"
    },
    {
     "data": {
      "application/vnd.plotly.v1+json": {
       "config": {
        "plotlyServerURL": "https://plot.ly"
       },
       "data": [
        {
         "colorbar": {
          "len": 0.75,
          "ticktext": [
           "Most Lax",
           "Lax",
           "Neutral",
           "Strict",
           "Most Strict"
          ],
          "tickvals": [
           1,
           2,
           3,
           4,
           5
          ],
          "title": {
           "text": "Gun Law Rank"
          }
         },
         "colorscale": [
          [
           0,
           "rgb(252, 222, 156)"
          ],
          [
           0.16666666666666666,
           "rgb(250, 164, 118)"
          ],
          [
           0.3333333333333333,
           "rgb(240, 116, 110)"
          ],
          [
           0.5,
           "rgb(227, 79, 111)"
          ],
          [
           0.6666666666666666,
           "rgb(220, 57, 119)"
          ],
          [
           0.8333333333333334,
           "rgb(185, 37, 122)"
          ],
          [
           1,
           "rgb(124, 29, 111)"
          ]
         ],
         "locationmode": "USA-states",
         "locations": [
          "AK",
          "AL",
          "AR",
          "AZ",
          "CA",
          "CO",
          "CT",
          "DC",
          "DE",
          "FL",
          "GA",
          "HI",
          "IA",
          "ID",
          "IL",
          "IN",
          "KS",
          "KY",
          "LA",
          "MA",
          "MD",
          "ME",
          "MI",
          "MN",
          "MO",
          "MS",
          "MT",
          "NC",
          "ND",
          "NE",
          "NH",
          "NJ",
          "NM",
          "NV",
          "NY",
          "OH",
          "OK",
          "OR",
          "PA",
          "RI",
          "SC",
          "SD",
          "TN",
          "TX",
          "UT",
          "VA",
          "VT",
          "WA",
          "WI",
          "WV",
          "WY"
         ],
         "text": [
          "Most Lax",
          "Most Lax",
          "Most Lax",
          "Most Lax",
          "Most Strict",
          "Strict",
          "Most Strict",
          "Most Strict",
          "Strict",
          "Neutral",
          "Most Lax",
          "Most Strict",
          "Most Lax",
          "Most Lax",
          "Most Strict",
          "Most Lax",
          "Most Lax",
          "Most Lax",
          "Most Lax",
          "Most Strict",
          "Most Strict",
          "Most Lax",
          "Neutral",
          "Neutral",
          "Most Lax",
          "Most Lax",
          "Most Lax",
          "Neutral",
          "Most Lax",
          "Neutral",
          "Most Lax",
          "Most Strict",
          "Neutral",
          "Neutral",
          "Most Strict",
          "Most Lax",
          "Most Lax",
          "Strict",
          "Strict",
          "Strict",
          "Most Lax",
          "Most Lax",
          "Most Lax",
          "Most Lax",
          "Most Lax",
          "Strict",
          "Neutral",
          "Strict",
          "Lax",
          "Most Lax",
          "Most Lax"
         ],
         "type": "choropleth",
         "z": [
          1,
          1,
          1,
          1,
          5,
          4,
          5,
          5,
          4,
          3,
          1,
          5,
          1,
          1,
          5,
          1,
          1,
          1,
          1,
          5,
          5,
          1,
          3,
          3,
          1,
          1,
          1,
          3,
          1,
          3,
          1,
          5,
          3,
          3,
          5,
          1,
          1,
          4,
          4,
          4,
          1,
          1,
          1,
          1,
          1,
          4,
          3,
          4,
          2,
          1,
          1
         ]
        }
       ],
       "layout": {
        "autosize": true,
        "geo": {
         "projection": {
          "type": "albers usa"
         },
         "scope": "usa"
        },
        "template": {
         "data": {
          "bar": [
           {
            "error_x": {
             "color": "#2a3f5f"
            },
            "error_y": {
             "color": "#2a3f5f"
            },
            "marker": {
             "line": {
              "color": "#E5ECF6",
              "width": 0.5
             },
             "pattern": {
              "fillmode": "overlay",
              "size": 10,
              "solidity": 0.2
             }
            },
            "type": "bar"
           }
          ],
          "barpolar": [
           {
            "marker": {
             "line": {
              "color": "#E5ECF6",
              "width": 0.5
             },
             "pattern": {
              "fillmode": "overlay",
              "size": 10,
              "solidity": 0.2
             }
            },
            "type": "barpolar"
           }
          ],
          "carpet": [
           {
            "aaxis": {
             "endlinecolor": "#2a3f5f",
             "gridcolor": "white",
             "linecolor": "white",
             "minorgridcolor": "white",
             "startlinecolor": "#2a3f5f"
            },
            "baxis": {
             "endlinecolor": "#2a3f5f",
             "gridcolor": "white",
             "linecolor": "white",
             "minorgridcolor": "white",
             "startlinecolor": "#2a3f5f"
            },
            "type": "carpet"
           }
          ],
          "choropleth": [
           {
            "colorbar": {
             "outlinewidth": 0,
             "ticks": ""
            },
            "type": "choropleth"
           }
          ],
          "contour": [
           {
            "colorbar": {
             "outlinewidth": 0,
             "ticks": ""
            },
            "colorscale": [
             [
              0,
              "#0d0887"
             ],
             [
              0.1111111111111111,
              "#46039f"
             ],
             [
              0.2222222222222222,
              "#7201a8"
             ],
             [
              0.3333333333333333,
              "#9c179e"
             ],
             [
              0.4444444444444444,
              "#bd3786"
             ],
             [
              0.5555555555555556,
              "#d8576b"
             ],
             [
              0.6666666666666666,
              "#ed7953"
             ],
             [
              0.7777777777777778,
              "#fb9f3a"
             ],
             [
              0.8888888888888888,
              "#fdca26"
             ],
             [
              1,
              "#f0f921"
             ]
            ],
            "type": "contour"
           }
          ],
          "contourcarpet": [
           {
            "colorbar": {
             "outlinewidth": 0,
             "ticks": ""
            },
            "type": "contourcarpet"
           }
          ],
          "heatmap": [
           {
            "colorbar": {
             "outlinewidth": 0,
             "ticks": ""
            },
            "colorscale": [
             [
              0,
              "#0d0887"
             ],
             [
              0.1111111111111111,
              "#46039f"
             ],
             [
              0.2222222222222222,
              "#7201a8"
             ],
             [
              0.3333333333333333,
              "#9c179e"
             ],
             [
              0.4444444444444444,
              "#bd3786"
             ],
             [
              0.5555555555555556,
              "#d8576b"
             ],
             [
              0.6666666666666666,
              "#ed7953"
             ],
             [
              0.7777777777777778,
              "#fb9f3a"
             ],
             [
              0.8888888888888888,
              "#fdca26"
             ],
             [
              1,
              "#f0f921"
             ]
            ],
            "type": "heatmap"
           }
          ],
          "heatmapgl": [
           {
            "colorbar": {
             "outlinewidth": 0,
             "ticks": ""
            },
            "colorscale": [
             [
              0,
              "#0d0887"
             ],
             [
              0.1111111111111111,
              "#46039f"
             ],
             [
              0.2222222222222222,
              "#7201a8"
             ],
             [
              0.3333333333333333,
              "#9c179e"
             ],
             [
              0.4444444444444444,
              "#bd3786"
             ],
             [
              0.5555555555555556,
              "#d8576b"
             ],
             [
              0.6666666666666666,
              "#ed7953"
             ],
             [
              0.7777777777777778,
              "#fb9f3a"
             ],
             [
              0.8888888888888888,
              "#fdca26"
             ],
             [
              1,
              "#f0f921"
             ]
            ],
            "type": "heatmapgl"
           }
          ],
          "histogram": [
           {
            "marker": {
             "pattern": {
              "fillmode": "overlay",
              "size": 10,
              "solidity": 0.2
             }
            },
            "type": "histogram"
           }
          ],
          "histogram2d": [
           {
            "colorbar": {
             "outlinewidth": 0,
             "ticks": ""
            },
            "colorscale": [
             [
              0,
              "#0d0887"
             ],
             [
              0.1111111111111111,
              "#46039f"
             ],
             [
              0.2222222222222222,
              "#7201a8"
             ],
             [
              0.3333333333333333,
              "#9c179e"
             ],
             [
              0.4444444444444444,
              "#bd3786"
             ],
             [
              0.5555555555555556,
              "#d8576b"
             ],
             [
              0.6666666666666666,
              "#ed7953"
             ],
             [
              0.7777777777777778,
              "#fb9f3a"
             ],
             [
              0.8888888888888888,
              "#fdca26"
             ],
             [
              1,
              "#f0f921"
             ]
            ],
            "type": "histogram2d"
           }
          ],
          "histogram2dcontour": [
           {
            "colorbar": {
             "outlinewidth": 0,
             "ticks": ""
            },
            "colorscale": [
             [
              0,
              "#0d0887"
             ],
             [
              0.1111111111111111,
              "#46039f"
             ],
             [
              0.2222222222222222,
              "#7201a8"
             ],
             [
              0.3333333333333333,
              "#9c179e"
             ],
             [
              0.4444444444444444,
              "#bd3786"
             ],
             [
              0.5555555555555556,
              "#d8576b"
             ],
             [
              0.6666666666666666,
              "#ed7953"
             ],
             [
              0.7777777777777778,
              "#fb9f3a"
             ],
             [
              0.8888888888888888,
              "#fdca26"
             ],
             [
              1,
              "#f0f921"
             ]
            ],
            "type": "histogram2dcontour"
           }
          ],
          "mesh3d": [
           {
            "colorbar": {
             "outlinewidth": 0,
             "ticks": ""
            },
            "type": "mesh3d"
           }
          ],
          "parcoords": [
           {
            "line": {
             "colorbar": {
              "outlinewidth": 0,
              "ticks": ""
             }
            },
            "type": "parcoords"
           }
          ],
          "pie": [
           {
            "automargin": true,
            "type": "pie"
           }
          ],
          "scatter": [
           {
            "fillpattern": {
             "fillmode": "overlay",
             "size": 10,
             "solidity": 0.2
            },
            "type": "scatter"
           }
          ],
          "scatter3d": [
           {
            "line": {
             "colorbar": {
              "outlinewidth": 0,
              "ticks": ""
             }
            },
            "marker": {
             "colorbar": {
              "outlinewidth": 0,
              "ticks": ""
             }
            },
            "type": "scatter3d"
           }
          ],
          "scattercarpet": [
           {
            "marker": {
             "colorbar": {
              "outlinewidth": 0,
              "ticks": ""
             }
            },
            "type": "scattercarpet"
           }
          ],
          "scattergeo": [
           {
            "marker": {
             "colorbar": {
              "outlinewidth": 0,
              "ticks": ""
             }
            },
            "type": "scattergeo"
           }
          ],
          "scattergl": [
           {
            "marker": {
             "colorbar": {
              "outlinewidth": 0,
              "ticks": ""
             }
            },
            "type": "scattergl"
           }
          ],
          "scattermapbox": [
           {
            "marker": {
             "colorbar": {
              "outlinewidth": 0,
              "ticks": ""
             }
            },
            "type": "scattermapbox"
           }
          ],
          "scatterpolar": [
           {
            "marker": {
             "colorbar": {
              "outlinewidth": 0,
              "ticks": ""
             }
            },
            "type": "scatterpolar"
           }
          ],
          "scatterpolargl": [
           {
            "marker": {
             "colorbar": {
              "outlinewidth": 0,
              "ticks": ""
             }
            },
            "type": "scatterpolargl"
           }
          ],
          "scatterternary": [
           {
            "marker": {
             "colorbar": {
              "outlinewidth": 0,
              "ticks": ""
             }
            },
            "type": "scatterternary"
           }
          ],
          "surface": [
           {
            "colorbar": {
             "outlinewidth": 0,
             "ticks": ""
            },
            "colorscale": [
             [
              0,
              "#0d0887"
             ],
             [
              0.1111111111111111,
              "#46039f"
             ],
             [
              0.2222222222222222,
              "#7201a8"
             ],
             [
              0.3333333333333333,
              "#9c179e"
             ],
             [
              0.4444444444444444,
              "#bd3786"
             ],
             [
              0.5555555555555556,
              "#d8576b"
             ],
             [
              0.6666666666666666,
              "#ed7953"
             ],
             [
              0.7777777777777778,
              "#fb9f3a"
             ],
             [
              0.8888888888888888,
              "#fdca26"
             ],
             [
              1,
              "#f0f921"
             ]
            ],
            "type": "surface"
           }
          ],
          "table": [
           {
            "cells": {
             "fill": {
              "color": "#EBF0F8"
             },
             "line": {
              "color": "white"
             }
            },
            "header": {
             "fill": {
              "color": "#C8D4E3"
             },
             "line": {
              "color": "white"
             }
            },
            "type": "table"
           }
          ]
         },
         "layout": {
          "annotationdefaults": {
           "arrowcolor": "#2a3f5f",
           "arrowhead": 0,
           "arrowwidth": 1
          },
          "autotypenumbers": "strict",
          "coloraxis": {
           "colorbar": {
            "outlinewidth": 0,
            "ticks": ""
           }
          },
          "colorscale": {
           "diverging": [
            [
             0,
             "#8e0152"
            ],
            [
             0.1,
             "#c51b7d"
            ],
            [
             0.2,
             "#de77ae"
            ],
            [
             0.3,
             "#f1b6da"
            ],
            [
             0.4,
             "#fde0ef"
            ],
            [
             0.5,
             "#f7f7f7"
            ],
            [
             0.6,
             "#e6f5d0"
            ],
            [
             0.7,
             "#b8e186"
            ],
            [
             0.8,
             "#7fbc41"
            ],
            [
             0.9,
             "#4d9221"
            ],
            [
             1,
             "#276419"
            ]
           ],
           "sequential": [
            [
             0,
             "#0d0887"
            ],
            [
             0.1111111111111111,
             "#46039f"
            ],
            [
             0.2222222222222222,
             "#7201a8"
            ],
            [
             0.3333333333333333,
             "#9c179e"
            ],
            [
             0.4444444444444444,
             "#bd3786"
            ],
            [
             0.5555555555555556,
             "#d8576b"
            ],
            [
             0.6666666666666666,
             "#ed7953"
            ],
            [
             0.7777777777777778,
             "#fb9f3a"
            ],
            [
             0.8888888888888888,
             "#fdca26"
            ],
            [
             1,
             "#f0f921"
            ]
           ],
           "sequentialminus": [
            [
             0,
             "#0d0887"
            ],
            [
             0.1111111111111111,
             "#46039f"
            ],
            [
             0.2222222222222222,
             "#7201a8"
            ],
            [
             0.3333333333333333,
             "#9c179e"
            ],
            [
             0.4444444444444444,
             "#bd3786"
            ],
            [
             0.5555555555555556,
             "#d8576b"
            ],
            [
             0.6666666666666666,
             "#ed7953"
            ],
            [
             0.7777777777777778,
             "#fb9f3a"
            ],
            [
             0.8888888888888888,
             "#fdca26"
            ],
            [
             1,
             "#f0f921"
            ]
           ]
          },
          "colorway": [
           "#636efa",
           "#EF553B",
           "#00cc96",
           "#ab63fa",
           "#FFA15A",
           "#19d3f3",
           "#FF6692",
           "#B6E880",
           "#FF97FF",
           "#FECB52"
          ],
          "font": {
           "color": "#2a3f5f"
          },
          "geo": {
           "bgcolor": "white",
           "lakecolor": "white",
           "landcolor": "#E5ECF6",
           "showlakes": true,
           "showland": true,
           "subunitcolor": "white"
          },
          "hoverlabel": {
           "align": "left"
          },
          "hovermode": "closest",
          "mapbox": {
           "style": "light"
          },
          "paper_bgcolor": "white",
          "plot_bgcolor": "#E5ECF6",
          "polar": {
           "angularaxis": {
            "gridcolor": "white",
            "linecolor": "white",
            "ticks": ""
           },
           "bgcolor": "#E5ECF6",
           "radialaxis": {
            "gridcolor": "white",
            "linecolor": "white",
            "ticks": ""
           }
          },
          "scene": {
           "xaxis": {
            "backgroundcolor": "#E5ECF6",
            "gridcolor": "white",
            "gridwidth": 2,
            "linecolor": "white",
            "showbackground": true,
            "ticks": "",
            "zerolinecolor": "white"
           },
           "yaxis": {
            "backgroundcolor": "#E5ECF6",
            "gridcolor": "white",
            "gridwidth": 2,
            "linecolor": "white",
            "showbackground": true,
            "ticks": "",
            "zerolinecolor": "white"
           },
           "zaxis": {
            "backgroundcolor": "#E5ECF6",
            "gridcolor": "white",
            "gridwidth": 2,
            "linecolor": "white",
            "showbackground": true,
            "ticks": "",
            "zerolinecolor": "white"
           }
          },
          "shapedefaults": {
           "line": {
            "color": "#2a3f5f"
           }
          },
          "ternary": {
           "aaxis": {
            "gridcolor": "white",
            "linecolor": "white",
            "ticks": ""
           },
           "baxis": {
            "gridcolor": "white",
            "linecolor": "white",
            "ticks": ""
           },
           "bgcolor": "#E5ECF6",
           "caxis": {
            "gridcolor": "white",
            "linecolor": "white",
            "ticks": ""
           }
          },
          "title": {
           "x": 0.05
          },
          "xaxis": {
           "automargin": true,
           "gridcolor": "white",
           "linecolor": "white",
           "ticks": "",
           "title": {
            "standoff": 15
           },
           "zerolinecolor": "white",
           "zerolinewidth": 2
          },
          "yaxis": {
           "automargin": true,
           "gridcolor": "white",
           "linecolor": "white",
           "ticks": "",
           "title": {
            "standoff": 15
           },
           "zerolinecolor": "white",
           "zerolinewidth": 2
          }
         }
        },
        "title": {
         "text": "Gun Control Laws by States in USA"
        },
        "xaxis": {
         "title": {
          "text": "Gun Control Laws (Likert Scale)"
         }
        },
        "yaxis": {
         "title": {
          "text": "State"
         }
        }
       }
      },
      "image/png": "[encoded data removed]",
      "text/html": [
       "<div>                            <div id=\"ed862655-2e52-4cab-884e-cb9bcd622f14\" class=\"plotly-graph-div\" style=\"height:525px; width:100%;\"></div>            <script type=\"text/javascript\">                require([\"plotly\"], function(Plotly) {                    window.PLOTLYENV=window.PLOTLYENV || {};                                    if (document.getElementById(\"ed862655-2e52-4cab-884e-cb9bcd622f14\")) {                    Plotly.newPlot(                        \"ed862655-2e52-4cab-884e-cb9bcd622f14\",                        [{\"colorbar\":{\"len\":0.75,\"ticktext\":[\"Most Lax\",\"Lax\",\"Neutral\",\"Strict\",\"Most Strict\"],\"tickvals\":[1,2,3,4,5],\"title\":{\"text\":\"Gun Law Rank\"}},\"colorscale\":[[0.0,\"rgb(252, 222, 156)\"],[0.16666666666666666,\"rgb(250, 164, 118)\"],[0.3333333333333333,\"rgb(240, 116, 110)\"],[0.5,\"rgb(227, 79, 111)\"],[0.6666666666666666,\"rgb(220, 57, 119)\"],[0.8333333333333334,\"rgb(185, 37, 122)\"],[1.0,\"rgb(124, 29, 111)\"]],\"locationmode\":\"USA-states\",\"locations\":[\"AK\",\"AL\",\"AR\",\"AZ\",\"CA\",\"CO\",\"CT\",\"DC\",\"DE\",\"FL\",\"GA\",\"HI\",\"IA\",\"ID\",\"IL\",\"IN\",\"KS\",\"KY\",\"LA\",\"MA\",\"MD\",\"ME\",\"MI\",\"MN\",\"MO\",\"MS\",\"MT\",\"NC\",\"ND\",\"NE\",\"NH\",\"NJ\",\"NM\",\"NV\",\"NY\",\"OH\",\"OK\",\"OR\",\"PA\",\"RI\",\"SC\",\"SD\",\"TN\",\"TX\",\"UT\",\"VA\",\"VT\",\"WA\",\"WI\",\"WV\",\"WY\"],\"text\":[\"Most Lax\",\"Most Lax\",\"Most Lax\",\"Most Lax\",\"Most Strict\",\"Strict\",\"Most Strict\",\"Most Strict\",\"Strict\",\"Neutral\",\"Most Lax\",\"Most Strict\",\"Most Lax\",\"Most Lax\",\"Most Strict\",\"Most Lax\",\"Most Lax\",\"Most Lax\",\"Most Lax\",\"Most Strict\",\"Most Strict\",\"Most Lax\",\"Neutral\",\"Neutral\",\"Most Lax\",\"Most Lax\",\"Most Lax\",\"Neutral\",\"Most Lax\",\"Neutral\",\"Most Lax\",\"Most Strict\",\"Neutral\",\"Neutral\",\"Most Strict\",\"Most Lax\",\"Most Lax\",\"Strict\",\"Strict\",\"Strict\",\"Most Lax\",\"Most Lax\",\"Most Lax\",\"Most Lax\",\"Most Lax\",\"Strict\",\"Neutral\",\"Strict\",\"Lax\",\"Most Lax\",\"Most Lax\"],\"z\":[1,1,1,1,5,4,5,5,4,3,1,5,1,1,5,1,1,1,1,5,5,1,3,3,1,1,1,3,1,3,1,5,3,3,5,1,1,4,4,4,1,1,1,1,1,4,3,4,2,1,1],\"type\":\"choropleth\"}],                        {\"template\":{\"data\":{\"histogram2dcontour\":[{\"type\":\"histogram2dcontour\",\"colorbar\":{\"outlinewidth\":0,\"ticks\":\"\"},\"colorscale\":[[0.0,\"#0d0887\"],[0.1111111111111111,\"#46039f\"],[0.2222222222222222,\"#7201a8\"],[0.3333333333333333,\"#9c179e\"],[0.4444444444444444,\"#bd3786\"],[0.5555555555555556,\"#d8576b\"],[0.6666666666666666,\"#ed7953\"],[0.7777777777777778,\"#fb9f3a\"],[0.8888888888888888,\"#fdca26\"],[1.0,\"#f0f921\"]]}],\"choropleth\":[{\"type\":\"choropleth\",\"colorbar\":{\"outlinewidth\":0,\"ticks\":\"\"}}],\"histogram2d\":[{\"type\":\"histogram2d\",\"colorbar\":{\"outlinewidth\":0,\"ticks\":\"\"},\"colorscale\":[[0.0,\"#0d0887\"],[0.1111111111111111,\"#46039f\"],[0.2222222222222222,\"#7201a8\"],[0.3333333333333333,\"#9c179e\"],[0.4444444444444444,\"#bd3786\"],[0.5555555555555556,\"#d8576b\"],[0.6666666666666666,\"#ed7953\"],[0.7777777777777778,\"#fb9f3a\"],[0.8888888888888888,\"#fdca26\"],[1.0,\"#f0f921\"]]}],\"heatmap\":[{\"type\":\"heatmap\",\"colorbar\":{\"outlinewidth\":0,\"ticks\":\"\"},\"colorscale\":[[0.0,\"#0d0887\"],[0.1111111111111111,\"#46039f\"],[0.2222222222222222,\"#7201a8\"],[0.3333333333333333,\"#9c179e\"],[0.4444444444444444,\"#bd3786\"],[0.5555555555555556,\"#d8576b\"],[0.6666666666666666,\"#ed7953\"],[0.7777777777777778,\"#fb9f3a\"],[0.8888888888888888,\"#fdca26\"],[1.0,\"#f0f921\"]]}],\"heatmapgl\":[{\"type\":\"heatmapgl\",\"colorbar\":{\"outlinewidth\":0,\"ticks\":\"\"},\"colorscale\":[[0.0,\"#0d0887\"],[0.1111111111111111,\"#46039f\"],[0.2222222222222222,\"#7201a8\"],[0.3333333333333333,\"#9c179e\"],[0.4444444444444444,\"#bd3786\"],[0.5555555555555556,\"#d8576b\"],[0.6666666666666666,\"#ed7953\"],[0.7777777777777778,\"#fb9f3a\"],[0.8888888888888888,\"#fdca26\"],[1.0,\"#f0f921\"]]}],\"contourcarpet\":[{\"type\":\"contourcarpet\",\"colorbar\":{\"outlinewidth\":0,\"ticks\":\"\"}}],\"contour\":[{\"type\":\"contour\",\"colorbar\":{\"outlinewidth\":0,\"ticks\":\"\"},\"colorscale\":[[0.0,\"#0d0887\"],[0.1111111111111111,\"#46039f\"],[0.2222222222222222,\"#7201a8\"],[0.3333333333333333,\"#9c179e\"],[0.4444444444444444,\"#bd3786\"],[0.5555555555555556,\"#d8576b\"],[0.6666666666666666,\"#ed7953\"],[0.7777777777777778,\"#fb9f3a\"],[0.8888888888888888,\"#fdca26\"],[1.0,\"#f0f921\"]]}],\"surface\":[{\"type\":\"surface\",\"colorbar\":{\"outlinewidth\":0,\"ticks\":\"\"},\"colorscale\":[[0.0,\"#0d0887\"],[0.1111111111111111,\"#46039f\"],[0.2222222222222222,\"#7201a8\"],[0.3333333333333333,\"#9c179e\"],[0.4444444444444444,\"#bd3786\"],[0.5555555555555556,\"#d8576b\"],[0.6666666666666666,\"#ed7953\"],[0.7777777777777778,\"#fb9f3a\"],[0.8888888888888888,\"#fdca26\"],[1.0,\"#f0f921\"]]}],\"mesh3d\":[{\"type\":\"mesh3d\",\"colorbar\":{\"outlinewidth\":0,\"ticks\":\"\"}}],\"scatter\":[{\"fillpattern\":{\"fillmode\":\"overlay\",\"size\":10,\"solidity\":0.2},\"type\":\"scatter\"}],\"parcoords\":[{\"type\":\"parcoords\",\"line\":{\"colorbar\":{\"outlinewidth\":0,\"ticks\":\"\"}}}],\"scatterpolargl\":[{\"type\":\"scatterpolargl\",\"marker\":{\"colorbar\":{\"outlinewidth\":0,\"ticks\":\"\"}}}],\"bar\":[{\"error_x\":{\"color\":\"#2a3f5f\"},\"error_y\":{\"color\":\"#2a3f5f\"},\"marker\":{\"line\":{\"color\":\"#E5ECF6\",\"width\":0.5},\"pattern\":{\"fillmode\":\"overlay\",\"size\":10,\"solidity\":0.2}},\"type\":\"bar\"}],\"scattergeo\":[{\"type\":\"scattergeo\",\"marker\":{\"colorbar\":{\"outlinewidth\":0,\"ticks\":\"\"}}}],\"scatterpolar\":[{\"type\":\"scatterpolar\",\"marker\":{\"colorbar\":{\"outlinewidth\":0,\"ticks\":\"\"}}}],\"histogram\":[{\"marker\":{\"pattern\":{\"fillmode\":\"overlay\",\"size\":10,\"solidity\":0.2}},\"type\":\"histogram\"}],\"scattergl\":[{\"type\":\"scattergl\",\"marker\":{\"colorbar\":{\"outlinewidth\":0,\"ticks\":\"\"}}}],\"scatter3d\":[{\"type\":\"scatter3d\",\"line\":{\"colorbar\":{\"outlinewidth\":0,\"ticks\":\"\"}},\"marker\":{\"colorbar\":{\"outlinewidth\":0,\"ticks\":\"\"}}}],\"scattermapbox\":[{\"type\":\"scattermapbox\",\"marker\":{\"colorbar\":{\"outlinewidth\":0,\"ticks\":\"\"}}}],\"scatterternary\":[{\"type\":\"scatterternary\",\"marker\":{\"colorbar\":{\"outlinewidth\":0,\"ticks\":\"\"}}}],\"scattercarpet\":[{\"type\":\"scattercarpet\",\"marker\":{\"colorbar\":{\"outlinewidth\":0,\"ticks\":\"\"}}}],\"carpet\":[{\"aaxis\":{\"endlinecolor\":\"#2a3f5f\",\"gridcolor\":\"white\",\"linecolor\":\"white\",\"minorgridcolor\":\"white\",\"startlinecolor\":\"#2a3f5f\"},\"baxis\":{\"endlinecolor\":\"#2a3f5f\",\"gridcolor\":\"white\",\"linecolor\":\"white\",\"minorgridcolor\":\"white\",\"startlinecolor\":\"#2a3f5f\"},\"type\":\"carpet\"}],\"table\":[{\"cells\":{\"fill\":{\"color\":\"#EBF0F8\"},\"line\":{\"color\":\"white\"}},\"header\":{\"fill\":{\"color\":\"#C8D4E3\"},\"line\":{\"color\":\"white\"}},\"type\":\"table\"}],\"barpolar\":[{\"marker\":{\"line\":{\"color\":\"#E5ECF6\",\"width\":0.5},\"pattern\":{\"fillmode\":\"overlay\",\"size\":10,\"solidity\":0.2}},\"type\":\"barpolar\"}],\"pie\":[{\"automargin\":true,\"type\":\"pie\"}]},\"layout\":{\"autotypenumbers\":\"strict\",\"colorway\":[\"#636efa\",\"#EF553B\",\"#00cc96\",\"#ab63fa\",\"#FFA15A\",\"#19d3f3\",\"#FF6692\",\"#B6E880\",\"#FF97FF\",\"#FECB52\"],\"font\":{\"color\":\"#2a3f5f\"},\"hovermode\":\"closest\",\"hoverlabel\":{\"align\":\"left\"},\"paper_bgcolor\":\"white\",\"plot_bgcolor\":\"#E5ECF6\",\"polar\":{\"bgcolor\":\"#E5ECF6\",\"angularaxis\":{\"gridcolor\":\"white\",\"linecolor\":\"white\",\"ticks\":\"\"},\"radialaxis\":{\"gridcolor\":\"white\",\"linecolor\":\"white\",\"ticks\":\"\"}},\"ternary\":{\"bgcolor\":\"#E5ECF6\",\"aaxis\":{\"gridcolor\":\"white\",\"linecolor\":\"white\",\"ticks\":\"\"},\"baxis\":{\"gridcolor\":\"white\",\"linecolor\":\"white\",\"ticks\":\"\"},\"caxis\":{\"gridcolor\":\"white\",\"linecolor\":\"white\",\"ticks\":\"\"}},\"coloraxis\":{\"colorbar\":{\"outlinewidth\":0,\"ticks\":\"\"}},\"colorscale\":{\"sequential\":[[0.0,\"#0d0887\"],[0.1111111111111111,\"#46039f\"],[0.2222222222222222,\"#7201a8\"],[0.3333333333333333,\"#9c179e\"],[0.4444444444444444,\"#bd3786\"],[0.5555555555555556,\"#d8576b\"],[0.6666666666666666,\"#ed7953\"],[0.7777777777777778,\"#fb9f3a\"],[0.8888888888888888,\"#fdca26\"],[1.0,\"#f0f921\"]],\"sequentialminus\":[[0.0,\"#0d0887\"],[0.1111111111111111,\"#46039f\"],[0.2222222222222222,\"#7201a8\"],[0.3333333333333333,\"#9c179e\"],[0.4444444444444444,\"#bd3786\"],[0.5555555555555556,\"#d8576b\"],[0.6666666666666666,\"#ed7953\"],[0.7777777777777778,\"#fb9f3a\"],[0.8888888888888888,\"#fdca26\"],[1.0,\"#f0f921\"]],\"diverging\":[[0,\"#8e0152\"],[0.1,\"#c51b7d\"],[0.2,\"#de77ae\"],[0.3,\"#f1b6da\"],[0.4,\"#fde0ef\"],[0.5,\"#f7f7f7\"],[0.6,\"#e6f5d0\"],[0.7,\"#b8e186\"],[0.8,\"#7fbc41\"],[0.9,\"#4d9221\"],[1,\"#276419\"]]},\"xaxis\":{\"gridcolor\":\"white\",\"linecolor\":\"white\",\"ticks\":\"\",\"title\":{\"standoff\":15},\"zerolinecolor\":\"white\",\"automargin\":true,\"zerolinewidth\":2},\"yaxis\":{\"gridcolor\":\"white\",\"linecolor\":\"white\",\"ticks\":\"\",\"title\":{\"standoff\":15},\"zerolinecolor\":\"white\",\"automargin\":true,\"zerolinewidth\":2},\"scene\":{\"xaxis\":{\"backgroundcolor\":\"#E5ECF6\",\"gridcolor\":\"white\",\"linecolor\":\"white\",\"showbackground\":true,\"ticks\":\"\",\"zerolinecolor\":\"white\",\"gridwidth\":2},\"yaxis\":{\"backgroundcolor\":\"#E5ECF6\",\"gridcolor\":\"white\",\"linecolor\":\"white\",\"showbackground\":true,\"ticks\":\"\",\"zerolinecolor\":\"white\",\"gridwidth\":2},\"zaxis\":{\"backgroundcolor\":\"#E5ECF6\",\"gridcolor\":\"white\",\"linecolor\":\"white\",\"showbackground\":true,\"ticks\":\"\",\"zerolinecolor\":\"white\",\"gridwidth\":2}},\"shapedefaults\":{\"line\":{\"color\":\"#2a3f5f\"}},\"annotationdefaults\":{\"arrowcolor\":\"#2a3f5f\",\"arrowhead\":0,\"arrowwidth\":1},\"geo\":{\"bgcolor\":\"white\",\"landcolor\":\"#E5ECF6\",\"subunitcolor\":\"white\",\"showland\":true,\"showlakes\":true,\"lakecolor\":\"white\"},\"title\":{\"x\":0.05},\"mapbox\":{\"style\":\"light\"}}},\"geo\":{\"projection\":{\"type\":\"albers usa\"},\"scope\":\"usa\"},\"title\":{\"text\":\"Gun Control Laws by States in USA\"},\"xaxis\":{\"title\":{\"text\":\"Gun Control Laws (Likert Scale)\"}},\"yaxis\":{\"title\":{\"text\":\"State\"}}},                        {\"responsive\": true}                    ).then(function(){\n",
       "                            \n",
       "var gd = document.getElementById('ed862655-2e52-4cab-884e-cb9bcd622f14');\n",
       "var x = new MutationObserver(function (mutations, observer) {{\n",
       "        var display = window.getComputedStyle(gd).display;\n",
       "        if (!display || display === 'none') {{\n",
       "            console.log([gd, 'removed!']);\n",
       "            Plotly.purge(gd);\n",
       "            observer.disconnect();\n",
       "        }}\n",
       "}});\n",
       "\n",
       "// Listen for the removal of the full notebook cells\n",
       "var notebookContainer = gd.closest('#notebook-container');\n",
       "if (notebookContainer) {{\n",
       "    x.observe(notebookContainer, {childList: true});\n",
       "}}\n",
       "\n",
       "// Listen for the clearing of the current output cell\n",
       "var outputEl = gd.closest('.output');\n",
       "if (outputEl) {{\n",
       "    x.observe(outputEl, {childList: true});\n",
       "}}\n",
       "\n",
       "                        })                };                });            </script>        </div>"
      ]
     },
     "metadata": {},
     "output_type": "display_data"
    }
   ],
   "source": [
    "import pandas as pd\n",
    "import plotly.graph_objects as go\n",
    "\n",
    "# Convert 'rate' column to numeric, replacing any non-numeric values with NaN\n",
    "final_df['rate'] = pd.to_numeric(final_df['rate'], errors='coerce')\n",
    "\n",
    "# Plotting choropleth interactive heat map to visualize the relationship between gun control laws and gun violence deaths\n",
    "fig = go.Figure(data=go.Choropleth(\n",
    "    locations=final_df['state'],  # States\n",
    "    z=final_df['rate'],  # Values to be color-coded\n",
    "    locationmode='USA-states',  # Set plot type to US states\n",
    "    colorscale='sunsetdark',  # valid colorscale name\n",
    "    colorbar=dict(title='Gun Violence Rate (Mortality Rate)'),  # Colorbar title\n",
    "))\n",
    "\n",
    "# Update layout of Choropleth Interactive Heat Map: Gun Violence Deaths by State and Gun Control Laws\n",
    "fig.update_layout(\n",
    "    title='Gun Violence Deaths by States in USA',\n",
    "    geo=dict(scope='usa',  # Set map scope to USA\n",
    "             projection_type='albers usa'),  # Albers USA projection\n",
    "    xaxis_title='Gun Control Laws (Likert Scale)',\n",
    "    yaxis_title='State'\n",
    ")\n",
    "\n",
    "# Define Likert scale categories with reversed order for gun violence deaths\n",
    "likert_scale = {\n",
    "    1: 'Safest',\n",
    "    2: 'Safe',\n",
    "    3: 'Moderate',\n",
    "    4: 'Very Dangerous',\n",
    "    5: 'Deadliest'\n",
    "}\n",
    "\n",
    "# Determine positions for each Likert scale category based on the range of values\n",
    "likert_positions = {\n",
    "    category: idx / (len(likert_scale) - 0.7) - 0.01\n",
    "    for idx, category in enumerate(likert_scale.keys())\n",
    "}\n",
    "\n",
    "# Add annotations for Likert scale on the left side\n",
    "for category, label in likert_scale.items():\n",
    "    fig.add_annotation(\n",
    "        x=1.20, y=likert_positions[category],  # Positioning the annotation on the right\n",
    "        xref='paper', yref='paper',  # Define the reference point\n",
    "        text=label,  # Text to display\n",
    "        showarrow=False,  # Don't show arrow\n",
    "        font=dict(size=12, color='black'),  # Font settings\n",
    "    )\n",
    "\n",
    "# Show plot\n",
    "fig.show()\n",
    "\n",
    "# SECOND HEATMAP ------------------------------------------------------------------------------------------------------------------------------------------------------------------\n",
    "\n",
    "# Define Likert scale categories based on gun laws ratings of each state\n",
    "likert_scale = {\n",
    "    1: 'Most Lax',\n",
    "    2: 'Lax',\n",
    "    3: 'Neutral',\n",
    "    4: 'Strict',\n",
    "    5: 'Most Strict'\n",
    "}\n",
    "\n",
    "# Convert 'rate' column to numeric, replacing any non-numeric values with NaN\n",
    "final_df['rate'] = pd.to_numeric(final_df['rate'], errors='coerce')\n",
    "\n",
    "# Plotting choropleth interactive heat map to visualize the relationship between gun control laws and gun violence deaths\n",
    "fig = go.Figure(data=go.Choropleth(\n",
    "    locations=final_df['state'],  # States\n",
    "    z=final_df['gun_laws'],  # Values to be color-coded based on gun laws\n",
    "    locationmode='USA-states',  # Set plot type to US states\n",
    "    colorscale='sunsetdark',  # valid colorscale name\n",
    "    colorbar=dict(\n",
    "        title='Gun Law Rank',\n",
    "        tickvals=list(likert_scale.keys()),\n",
    "        ticktext=list(likert_scale.values()),\n",
    "        len=0.75\n",
    "    ),  # Colorbar configuration\n",
    "    text=final_df['gun_laws'].map(likert_scale),  # Hover text based on Likert scale\n",
    "))\n",
    "\n",
    "# Update layout of Choropleth Interactive Heat Map: Gun Control Laws by State\n",
    "fig.update_layout(\n",
    "    title='Gun Control Laws by States in USA',\n",
    "    geo=dict(scope='usa',  # Set map scope to USA\n",
    "             projection_type='albers usa'),  # Albers USA projection\n",
    "    xaxis_title='Gun Control Laws (Likert Scale)',\n",
    "    yaxis_title='State'\n",
    ")\n",
    "\n",
    "# Show plot\n",
    "fig.show()\n"
   ]
  },
  {
   "cell_type": "markdown",
   "id": "07d00b5d-3442-4cdd-9b4f-2e1c82064990",
   "metadata": {},
   "source": [
    "# Conclusion\n",
    "Based on the data depicted in the choropleth heat maps, during the year 2023, individuals residing in Mississippi faced heightened vulnerability to gun violence deaths, with a mortality rate of 28.3 and the state's gun law rank being categorized as the least strict. Conversely, residents in Rhode Island exhibited a lower likelihood of being victims of gun violence deaths, with a mortality rate of 3.7 and the state's gun law rank classified as strict. Similarly, Massachusetts demonstrated a mortality rate of 3.8 for gun violence deaths, accompanied by the most stringent gun law rank.\n",
    "\n",
    "The analysis reveals a clear trend: states with stricter gun laws exhibit lower rates of gun violence deaths. This observation is evidenced by the fact that eight states, including California, Hawaii, Illinois, New York, New Jersey, Maryland, Massachusetts, and Connecticut, boasting the strictest gun law ranks, display the safest to safe gun violence (mortality) rates on the Likert scale. Conversely, twenty-six states, including Montana, North Dakota, South Dakota, Idaho, Wyoming, Utah, Arizona, Alaska, Iowa, Missouri, Kansas, Oklahoma, Texas, Arkansas, Louisiana, Indiana, Ohio, West Virginia, Kentucky, Tennessee, Mississippi, Alabama, Georgia, South Carolina, New Hampshire, and Maine, with a gun law rank of 1 (Most Lax) on the Likert scale, exhibit moderate to deadliest gun violence (mortality) rates.\n",
    "\n",
    "This analysis suggests a correlation between lax gun law ranks and higher rates of gun violence. States with lenient gun control laws tend to attract individuals engaged in criminal activities, psychopathy, or juvenile delinquency, contributing to higher rates of firearm-related crimes. Consequently, implementing stricter firearm control laws emerges as a crucial measure in reducing firearm mortality rates."
   ]
  }
 ],
 "metadata": {
  "kernelspec": {
   "display_name": "anaconda-panel-2023.05-py310",
   "language": "python",
   "name": "conda-env-anaconda-panel-2023.05-py310-py"
  },
  "language_info": {
   "codemirror_mode": {
    "name": "ipython",
    "version": 3
   },
   "file_extension": ".py",
   "mimetype": "text/x-python",
   "name": "python",
   "nbconvert_exporter": "python",
   "pygments_lexer": "ipython3",
   "version": "3.11.5"
  }
 },
 "nbformat": 4,
 "nbformat_minor": 5
}
